{
 "cells": [
  {
   "attachments": {},
   "cell_type": "markdown",
   "metadata": {},
   "source": [
    "# CIS 41B: Advanced Python Programming\n",
    "## Spring Quarter 2023 @ De Anza College\n",
    "\n",
    "### Course Outline\n",
    "Builds on the foundation laid in CIS 41A (Python Programming), such as:\n",
    "- object-oriented programming\n",
    "- data structures\n",
    "- functions as first-class objects extensively\n",
    "\n",
    "New topics include:\n",
    "- Data analysis\n",
    "- Data visualization \n",
    "- Graphical user interface programming\n",
    "- Web access\n",
    "- Database access\n",
    "- Multithreading and multiprocessing\n",
    "- Network socket programming\n",
    "- Operating system calls\n",
    "- Timing and profiling\n",
    "- Python extensions"
   ]
  },
  {
   "cell_type": "code",
   "execution_count": null,
   "metadata": {},
   "outputs": [],
   "source": [
    "print('hello world')"
   ]
  },
  {
   "cell_type": "code",
   "execution_count": null,
   "metadata": {},
   "outputs": [],
   "source": []
  }
 ],
 "metadata": {
  "kernelspec": {
   "display_name": "Python 3",
   "language": "python",
   "name": "python3"
  },
  "language_info": {
   "codemirror_mode": {
    "name": "ipython",
    "version": 3
   },
   "file_extension": ".py",
   "mimetype": "text/x-python",
   "name": "python",
   "nbconvert_exporter": "python",
   "pygments_lexer": "ipython3",
   "version": "3.9.6"
  },
  "orig_nbformat": 4,
  "vscode": {
   "interpreter": {
    "hash": "31f2aee4e71d21fbe5cf8b01ff0e069b9275f58929596ceb00d14d90e3e16cd6"
   }
  }
 },
 "nbformat": 4,
 "nbformat_minor": 2
}
