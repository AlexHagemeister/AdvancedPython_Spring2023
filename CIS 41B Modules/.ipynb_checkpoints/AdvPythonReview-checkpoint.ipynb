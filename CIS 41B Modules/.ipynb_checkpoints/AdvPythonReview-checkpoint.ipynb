{
 "cells": [
  {
   "attachments": {},
   "cell_type": "markdown",
   "id": "20bf7cb2-af36-4355-88ac-3afa90b1a079",
   "metadata": {},
   "source": [
    "# CIS 41B: REVIEW\n",
    "\n",
    "## The following is a review and reminder of good practices for efficient Python code.\n",
    "\n",
    "---"
   ]
  },
  {
   "cell_type": "markdown",
   "id": "663fd775-6768-4fd6-86f8-55797d4e4378",
   "metadata": {},
   "source": [
    "### 1. What can be improved with this code?"
   ]
  },
  {
   "cell_type": "code",
   "execution_count": null,
   "id": "00a82e4a-3ba3-4c2a-9108-6e6d69da145a",
   "metadata": {},
   "outputs": [],
   "source": [
    "scoresDict = {}\n",
    "scoresDict = readData()  # readData() returns a filled dictionary"
   ]
  },
  {
   "cell_type": "markdown",
   "id": "6198036f-339d-4ba4-94a0-a903610e502d",
   "metadata": {},
   "source": [
    "##### ANSWER:"
   ]
  },
  {
   "attachments": {},
   "cell_type": "markdown",
   "id": "6300a382-95a5-4e86-9a82-67a4757d74b9",
   "metadata": {},
   "source": [
    "redundant code, just need:\n",
    "```python\n",
    "scoresDict = readData()\n",
    "```"
   ]
  },
  {
   "cell_type": "markdown",
   "id": "9e304af6-9042-4dba-b8fc-e766b7febd8b",
   "metadata": {},
   "source": [
    "---\n",
    "### 2. Given the following code:"
   ]
  },
  {
   "cell_type": "code",
   "execution_count": null,
   "id": "a22101c9-4c13-4716-a99b-1c12eba8c67a",
   "metadata": {},
   "outputs": [],
   "source": [
    "# this code reads each line of an input file until there's an\n",
    "#  empty line, and stores fields 2 and 3 of the line as a\n",
    "#  key/value pair in a dictionary\n",
    "\n",
    "list = []\n",
    "d = dict()\n",
    "with open(filename) as infile:\n",
    "   aline = infile.readline()\n",
    "   while aline != \"\":  \n",
    "      aline = aline.rstrip().split()    \n",
    "      list.append(aline)\n",
    "      aline = infile.readline()\n",
    "    \n",
    "for i in range(len(list)):\n",
    "   d[lines[i][1]] = lines[i][2]"
   ]
  },
  {
   "attachments": {},
   "cell_type": "markdown",
   "id": "195befbf-1e56-490f-904b-5ed04fc3f618",
   "metadata": {},
   "source": [
    "#### 2a. Is there any error with the code?"
   ]
  },
  {
   "attachments": {},
   "cell_type": "markdown",
   "id": "cdc54fa3",
   "metadata": {},
   "source": [
    "Answer:\n",
    "..."
   ]
  },
  {
   "cell_type": "markdown",
   "id": "46c8f825-b5e9-4ad9-acf0-e673affed23c",
   "metadata": {},
   "source": [
    "#### 2b. What is the field separator in the input file?  "
   ]
  },
  {
   "cell_type": "markdown",
   "id": "7bdf8cd5-f8d7-4a18-9416-3dec4476d7d9",
   "metadata": {},
   "source": []
  },
  {
   "cell_type": "markdown",
   "id": "f3f662ed-2441-42e9-bd32-21df6fc211e1",
   "metadata": {},
   "source": [
    "#### 2c. What can be improved with this code?"
   ]
  },
  {
   "cell_type": "raw",
   "id": "46a1c227-f555-4feb-8ee9-c65d5a5999a5",
   "metadata": {},
   "source": []
  },
  {
   "cell_type": "markdown",
   "id": "1aa9d114-6a6b-41d5-9344-92c28a5e07bf",
   "metadata": {},
   "source": [
    "---\n",
    "\n",
    "### 3. This code builds a dictionary of first letters as keys, and matching country names in a set for the values. \n",
    "    \n",
    "#### Example of a key/value pair:  'A': (Afghanistan, Albania, Algeria). \n",
    "#### The country names are keys in another dictionary called countriesDict."
   ]
  },
  {
   "cell_type": "code",
   "execution_count": null,
   "id": "228e5718-ba18-4847-b5ce-1ee01431865d",
   "metadata": {},
   "outputs": [],
   "source": [
    "str1=\"ABCDEFGHIJKLMNOPQRSTUVWXYZ\"\n",
    "lettersDict = {}\n",
    "for elem in str1:\n",
    "   aSet = set()\n",
    "   for country in countriesDict:    \n",
    "      if country.startswith(elem) :\n",
    "         aSet.add(country)\n",
    "         lettersDict[elem] = aSet"
   ]
  },
  {
   "cell_type": "markdown",
   "id": "3a7adb3b-c1a6-44ac-8ee1-3b994f1cdd34",
   "metadata": {},
   "source": [
    "#### a) Is there anything wrong with the code?  \n",
    "#### b) What can be improved in the code?"
   ]
  },
  {
   "cell_type": "raw",
   "id": "1db86a9f-9769-4797-a464-fb67b567d71e",
   "metadata": {},
   "source": [
    "ANSWER:\n",
    "\n"
   ]
  },
  {
   "cell_type": "markdown",
   "id": "40f3da5d-6983-4275-a558-de6bff1ff7f1",
   "metadata": {},
   "source": [
    "---\n",
    "\n",
    "### 4. What's good about defining this global constant for a program that has a default input file?"
   ]
  },
  {
   "cell_type": "code",
   "execution_count": null,
   "id": "7ff59a97-ce87-4916-9f98-0fba9c960285",
   "metadata": {},
   "outputs": [],
   "source": [
    "DEFAULT_FILE = \"input.txt\""
   ]
  },
  {
   "cell_type": "markdown",
   "id": "e6ee5ae1-db6d-4c1c-b044-ef44e3c92303",
   "metadata": {},
   "source": [
    "___  \n",
    "\n",
    "\n",
    "### 5. If the input file can be opened successfully, this code reads lines from the file into a list to be processed later.If the file can't be opened, the code prints an error message. Is there any error with the way the exception is handled?"
   ]
  },
  {
   "cell_type": "code",
   "execution_count": null,
   "id": "77a145e7-9fbb-4a78-88f4-2e311a47f1fe",
   "metadata": {},
   "outputs": [],
   "source": [
    "dataList = []\n",
    "try:\n",
    "   with open(filename)as infile :\n",
    "      for line in infile:\n",
    "         dataList.append(line.rstrip())       \n",
    "except IOError:\n",
    "   print(\"Error opening \" + filename)\n",
    "\n",
    "# code to work with data in the list is here"
   ]
  },
  {
   "cell_type": "raw",
   "id": "1677f1d4-c3e0-4007-a64e-c9523b4ee4ea",
   "metadata": {},
   "source": [
    "ANSWER:\n",
    "\n"
   ]
  },
  {
   "cell_type": "markdown",
   "id": "333170fb-80da-455f-ae54-979c5bd9c803",
   "metadata": {},
   "source": [
    "---\n",
    "\n",
    "### 6a. An input file is made of lines of floating point values, one number per line. The file can be opened successfully so no need to test for file open success. Write the most efficient code to create a list of floats from the input file."
   ]
  },
  {
   "cell_type": "code",
   "execution_count": null,
   "id": "8bf9b402-1afa-4d1d-9ef0-abebd3b1c4d5",
   "metadata": {},
   "outputs": [],
   "source": [
    "# Solution:\n",
    "\n",
    "######"
   ]
  },
  {
   "cell_type": "markdown",
   "id": "93d8d948-e54e-4824-a500-0220249a1c34",
   "metadata": {},
   "source": [
    "---\n",
    "\n",
    "### 7. Given that:"
   ]
  },
  {
   "cell_type": "code",
   "execution_count": null,
   "id": "02695f18-739b-4673-a6b2-29fbb7fa5528",
   "metadata": {},
   "outputs": [],
   "source": [
    "L = [\"CIS 41A\", \"CIS 28\", \"EWRT 10\", \"PE 10\"]"
   ]
  },
  {
   "cell_type": "markdown",
   "id": "e51a724a-f2f4-4b2b-8584-2017870d6419",
   "metadata": {},
   "source": [
    "### Write the most efficient code to print one line of output, as a comma separated sequence of elements of L:"
   ]
  },
  {
   "cell_type": "raw",
   "id": "9354dff9-552b-4a70-9bf1-e3e765855e52",
   "metadata": {},
   "source": [
    "CIS 41A, CIS 28, EWRT 1, PE 10"
   ]
  },
  {
   "cell_type": "code",
   "execution_count": null,
   "id": "44620000-1cef-481f-9b8a-1db913fddaec",
   "metadata": {},
   "outputs": [],
   "source": [
    "# Solution:\n",
    "\n",
    "###"
   ]
  },
  {
   "cell_type": "markdown",
   "id": "440f5056-1dfd-43a1-85a8-5a66c1c10a56",
   "metadata": {},
   "source": [
    "___  \n",
    "\n",
    "### 6b. Write the most efficient code to print 4 lines of output in column format:"
   ]
  },
  {
   "cell_type": "raw",
   "id": "f95f9262-c366-4ccb-ae8a-3fb5f6e65725",
   "metadata": {},
   "source": [
    "CIS  41A\n",
    "CIS   28\n",
    "EWRT   1\n",
    "PE    10"
   ]
  },
  {
   "cell_type": "markdown",
   "id": "11b0fcef-0c67-46ab-b8be-688b15daaa21",
   "metadata": {},
   "source": []
  }
 ],
 "metadata": {
  "kernelspec": {
   "display_name": "Python 3 (ipykernel)",
   "language": "python",
   "name": "python3"
  },
  "language_info": {
   "codemirror_mode": {
    "name": "ipython",
    "version": 3
   },
   "file_extension": ".py",
   "mimetype": "text/x-python",
   "name": "python",
   "nbconvert_exporter": "python",
   "pygments_lexer": "ipython3",
   "version": "3.9.12"
  }
 },
 "nbformat": 4,
 "nbformat_minor": 5
}
