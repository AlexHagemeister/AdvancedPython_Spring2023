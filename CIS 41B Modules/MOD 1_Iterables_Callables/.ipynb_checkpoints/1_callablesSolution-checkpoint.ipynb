{
 "cells": [
  {
   "cell_type": "markdown",
   "metadata": {},
   "source": [
    "Module 1: Callables --  Solution"
   ]
  },
  {
   "cell_type": "markdown",
   "metadata": {},
   "source": [
    "1. Write code to call printArgs and pass to it the values in myTuple and num, in that order"
   ]
  },
  {
   "cell_type": "code",
   "execution_count": 1,
   "metadata": {},
   "outputs": [
    {
     "name": "stdout",
     "output_type": "stream",
     "text": [
      "Arguments are: 1 2 3 9\n",
      "Arguments are: 0 9 2 3\n"
     ]
    }
   ],
   "source": [
    "def printArgs(n1, n2, n3, n4) :\n",
    "    print(\"Arguments are:\", n1, n2, n3, n4)\n",
    "    \n",
    "myTuple = (1, 2, 3)\n",
    "num = 9\n",
    "printArgs(*myTuple,num)\n",
    "\n",
    "\n",
    "printArgs(0,num,*myTuple[1:])"
   ]
  },
  {
   "cell_type": "markdown",
   "metadata": {},
   "source": [
    "2. Rewrite printArgs so the following function calls will run."
   ]
  },
  {
   "cell_type": "code",
   "execution_count": 2,
   "metadata": {},
   "outputs": [
    {
     "name": "stdout",
     "output_type": "stream",
     "text": [
      "Arguments are: 9\n",
      "Arguments are: 9 1 2 3 8 20\n",
      "Arguments are:\n",
      "Arguments are: 2 4\n"
     ]
    }
   ],
   "source": [
    "def printArgs(*args, **kwargs) :\n",
    "    print(\"Arguments are:\", *args, *kwargs.values())\n",
    "          \n",
    "printArgs(num)\n",
    "printArgs(num, *myTuple, 8, 20)\n",
    "printArgs()\n",
    "printArgs(n1 = 2, n3 = 4)"
   ]
  },
  {
   "cell_type": "markdown",
   "metadata": {},
   "source": [
    "3. What does the following code do? "
   ]
  },
  {
   "cell_type": "code",
   "execution_count": 1,
   "metadata": {},
   "outputs": [
    {
     "name": "stdout",
     "output_type": "stream",
     "text": [
      "40\n",
      "-10\n"
     ]
    }
   ],
   "source": [
    "CONST = 5\n",
    "def product(n) :\n",
    "    print(n * CONST)\n",
    "\n",
    "product(8)    \n",
    "product(-2)   \n",
    "# if CONST is changed to 4, then 32 and -8 will be printed"
   ]
  },
  {
   "cell_type": "markdown",
   "metadata": {},
   "source": [
    "   If we change CONST above to 4, what will be the result?\n",
    "\n",
    "4. Write a closure to let the user conveniently set the CONST value, and then call product with that value, as shown below."
   ]
  },
  {
   "cell_type": "code",
   "execution_count": 2,
   "metadata": {},
   "outputs": [
    {
     "name": "stdout",
     "output_type": "stream",
     "text": [
      "40\n",
      "-10\n",
      "32\n",
      "-8\n"
     ]
    }
   ],
   "source": [
    "def setConst(c) :\n",
    "    def product(n) :\n",
    "        print(n * c)   # inner function uses c, which comes from outer\n",
    "    return product   # outer returns name of inner function\n",
    "        \n",
    "mult = setConst(5)         \n",
    "mult(8)       # should get 40\n",
    "mult(-2)      # should get -10\n",
    "       \n",
    "mult = setConst(4)          \n",
    "mult(8)       # should get 32\n",
    "mult(-2)      # should get -8\n"
   ]
  },
  {
   "cell_type": "markdown",
   "metadata": {},
   "source": [
    "5. One usage of decorators is for debugging.\n",
    "\n",
    "Suppose we have a function that modifies an object, like the sorting function below that modifies aList.  "
   ]
  },
  {
   "cell_type": "code",
   "execution_count": 14,
   "metadata": {},
   "outputs": [
    {
     "name": "stdout",
     "output_type": "stream",
     "text": [
      "[-3, 1, 2, 5, 6, 10]\n"
     ]
    }
   ],
   "source": [
    "aList = [5, 2, -3, 1, 6, 10]\n",
    "\n",
    "def sorting(aList) :\n",
    "    aList.sort()\n",
    "    \n",
    "sorting(aList)\n",
    "print(aList)"
   ]
  },
  {
   "cell_type": "markdown",
   "metadata": {},
   "source": [
    "Write a  decorator called trace that will print what aList looks like before sorting runs and what it looks like after sort runs, to see if sorting works."
   ]
  },
  {
   "cell_type": "code",
   "execution_count": 20,
   "metadata": {},
   "outputs": [
    {
     "name": "stdout",
     "output_type": "stream",
     "text": [
      "Before: [5, 2, -3, 1, 6, 10]\n",
      "After: [-3, 1, 2, 5, 6, 10]\n",
      "sorted 6 values in [-3, 1, 2, 5, 6, 10]\n"
     ]
    }
   ],
   "source": [
    "aList = [5, 2, -3, 1, 6, 10]\n",
    "  \n",
    "          # f: sorting\n",
    "def trace(f) :\n",
    "    num = 5\n",
    "    def inner(*args, **kwargs) :\n",
    "        # args: (aList,)     kwargs: empty dictionary\n",
    "        \n",
    "            # printing: aList  and   nothing\n",
    "        print(\"Before:\", *args, *kwargs.values())\n",
    "        \n",
    "        # rv = f(aList)\n",
    "        rv = f(*args, **kwargs)\n",
    "        print(\"After:\", *args, *kwargs.values())\n",
    "        return rv\n",
    "    return inner\n",
    "\n",
    "@trace\n",
    "def sorting(aList) :\n",
    "    aList.sort()\n",
    "    return len(aList)\n",
    "\n",
    "\n",
    "rv = sorting(aList)\n",
    "print(\"sorted\", rv, \"values in\", aList)\n",
    "# the print statement has been removed because the trace decorator will print for us\n"
   ]
  },
  {
   "cell_type": "markdown",
   "metadata": {},
   "source": [
    "Suppose we have a push function below. Use trace to see if the function produces the correct results."
   ]
  },
  {
   "cell_type": "code",
   "execution_count": 24,
   "metadata": {},
   "outputs": [
    {
     "name": "stdout",
     "output_type": "stream",
     "text": [
      "Before: [5, 2, -3, 1, 6, 10]\n",
      "After: [5, 2, -3, 1, 6, 10]\n",
      "[5, 2, -3, 1, 6, 10]\n",
      "Before: [5, 2, -3, 1, 6, 10] 20\n",
      "After: [5, 2, -3, 1, 6, 10, 20] 20\n",
      "[5, 2, -3, 1, 6, 10, 20]\n",
      "Before: [5, 2, -3, 1, 6, 10, 20] [1, 2]\n",
      "After: [5, 2, -3, 1, 6, 10, 20, 1, 2] [1, 2]\n",
      "[5, 2, -3, 1, 6, 10, 20, 1, 2]\n"
     ]
    }
   ],
   "source": [
    "aList = [5, 2, -3, 1, 6, 10]\n",
    "\n",
    "@trace\n",
    "def push(aList, oneVal=None, manyVals=None) :\n",
    "    if oneVal : \n",
    "        aList.append(oneVal)\n",
    "    if manyVals :\n",
    "        aList.extend(manyVals)\n",
    "        \n",
    "push(aList)\n",
    "print(aList)\n",
    "push(aList, 20)\n",
    "print(aList)\n",
    "push(aList, manyVals=[1,2])\n",
    "print(aList)"
   ]
  },
  {
   "cell_type": "code",
   "execution_count": null,
   "metadata": {},
   "outputs": [],
   "source": []
  },
  {
   "cell_type": "code",
   "execution_count": 39,
   "metadata": {},
   "outputs": [
    {
     "name": "stdout",
     "output_type": "stream",
     "text": [
      "Basic sort: [(0, -2), (4, -1), (6, 1), (1, 4), (3, 8)]\n",
      "Sort with limit = 0: [(6, 1), (1, 4), (3, 8), (0, -2), (4, -1)]\n"
     ]
    }
   ],
   "source": [
    "# in class EC\n",
    "\n",
    "L = [(1,4),(0,-2),(3,8),(4,-1),(6,1)]\n",
    "print(\"Basic sort:\", sorted(L, key=lambda t:t[1]))     # sort by 2nd elem of tuple\n",
    "\n",
    "# we want to call sorted to sort by the 2nd elem of the tuple, \n",
    "# but don't sort any tuple where the 2nd elem is less than or \n",
    "# equal to a limit,\n",
    "# and instead move these tuples to the end of the list\n",
    "\n",
    "# Example: if the limit is 0, then the sorted result is:\n",
    "# [(6, 1), (1, 4), (3, 8), (0, -2), (4, -1)]\n",
    "# if the limit is 1, then the sorted result is:\n",
    "# [(1, 4), (3, 8), (0, -2), (4, -1), (6, 1)]\n",
    "\n",
    "def limitSort(lim) :\n",
    "    def sortBy(t) :\n",
    "        if t[1] > lim :\n",
    "            return t[1]\n",
    "        else :\n",
    "            return 1000\n",
    "    return sortBy\n",
    "\n",
    "limit = 0\n",
    "setLimit = limitSort(limit)\n",
    "print(f\"Sort with limit = {limit}:\", sorted(L, key=setLimit))"
   ]
  },
  {
   "cell_type": "code",
   "execution_count": null,
   "metadata": {},
   "outputs": [],
   "source": []
  }
 ],
 "metadata": {
  "kernelspec": {
   "display_name": "Python 3 (ipykernel)",
   "language": "python",
   "name": "python3"
  },
  "language_info": {
   "codemirror_mode": {
    "name": "ipython",
    "version": 3
   },
   "file_extension": ".py",
   "mimetype": "text/x-python",
   "name": "python",
   "nbconvert_exporter": "python",
   "pygments_lexer": "ipython3",
   "version": "3.9.12"
  }
 },
 "nbformat": 4,
 "nbformat_minor": 2
}
