{
 "cells": [
  {
   "cell_type": "markdown",
   "metadata": {},
   "source": [
    "Module 1: Callables"
   ]
  },
  {
   "cell_type": "markdown",
   "metadata": {},
   "source": [
    "1. Write code to call printArgs and pass to it the values in myTuple and num, in that order"
   ]
  },
  {
   "cell_type": "code",
   "execution_count": 7,
   "metadata": {},
   "outputs": [],
   "source": [
    "def printArgs(n1, n2, n3, n4) :\n",
    "    print(\"Arguments are:\", n1, n2, n3, n4)\n",
    "    \n",
    "myTuple = (1, 2, 3)\n",
    "num = 9"
   ]
  },
  {
   "cell_type": "code",
   "execution_count": null,
   "metadata": {},
   "outputs": [],
   "source": [
    "# ANSWER:"
   ]
  },
  {
   "cell_type": "markdown",
   "metadata": {},
   "source": [
    "2. Rewrite printArgs so the following function calls will run."
   ]
  },
  {
   "cell_type": "code",
   "execution_count": 2,
   "metadata": {},
   "outputs": [
    {
     "ename": "TypeError",
     "evalue": "printArgs() missing 3 required positional arguments: 'n2', 'n3', and 'n4'",
     "output_type": "error",
     "traceback": [
      "\u001b[0;31m---------------------------------------------------------------------------\u001b[0m",
      "\u001b[0;31mTypeError\u001b[0m                                 Traceback (most recent call last)",
      "Cell \u001b[0;32mIn[2], line 1\u001b[0m\n\u001b[0;32m----> 1\u001b[0m printArgs(num)\n\u001b[1;32m      2\u001b[0m printArgs(num, \u001b[39m*\u001b[39mmyTuple, \u001b[39m8\u001b[39m, \u001b[39m20\u001b[39m)\n\u001b[1;32m      3\u001b[0m printArgs()\n",
      "\u001b[0;31mTypeError\u001b[0m: printArgs() missing 3 required positional arguments: 'n2', 'n3', and 'n4'"
     ]
    }
   ],
   "source": [
    "printArgs(num)\n",
    "printArgs(num, *myTuple, 8, 20)\n",
    "printArgs()\n",
    "printArgs(n1 = 2, n3 = 4)"
   ]
  },
  {
   "cell_type": "code",
   "execution_count": 8,
   "metadata": {},
   "outputs": [
    {
     "name": "stdout",
     "output_type": "stream",
     "text": [
      "9\n",
      "9\n",
      "1\n",
      "2\n",
      "3\n",
      "8\n",
      "20\n",
      "n1 2\n",
      "n3 4\n"
     ]
    }
   ],
   "source": [
    "def printArgs(*args, **kwargs):\n",
    "    for arg in args:\n",
    "        print(arg)\n",
    "    for key, value in kwargs.items():\n",
    "        print(key, value)\n",
    "\n",
    "printArgs(num)\n",
    "printArgs(num, *myTuple, 8, 20)\n",
    "printArgs()\n",
    "printArgs(n1 = 2, n3 = 4)"
   ]
  },
  {
   "cell_type": "markdown",
   "metadata": {},
   "source": [
    "3. What does the following code do? "
   ]
  },
  {
   "cell_type": "code",
   "execution_count": null,
   "metadata": {},
   "outputs": [],
   "source": [
    "CONST = 5\n",
    "def product(n) :\n",
    "    print(n * CONST)\n",
    "\n",
    "product(8)\n",
    "product(-2)"
   ]
  },
  {
   "cell_type": "markdown",
   "metadata": {},
   "source": [
    "The given code defines a constant CONST with a value of 5 and a function named product that takes a single argument n. The function product prints the product of n and CONST. Then, the function is called twice with the arguments 8 and -2.\n",
    "\n",
    "Here's the breakdown of the code execution:\n",
    "\n",
    "CONST = 5\n",
    "Define product(n) function.\n",
    "product(8): The function calculates 8 * 5 (which is 40) and prints \"40\".\n",
    "product(-2): The function calculates -2 * 5 (which is -10) and prints \"-10\"."
   ]
  },
  {
   "cell_type": "markdown",
   "metadata": {},
   "source": [
    " ### If we change CONST above to 4, what will be the result?"
   ]
  },
  {
   "cell_type": "markdown",
   "metadata": {},
   "source": [
    "If you change the CONST value to 4, the results will be different:\n",
    "\n",
    "CONST = 4\n",
    "Define product(n) function.\n",
    "product(8): The function calculates 8 * 4 (which is 32) and prints \"32\".\n",
    "product(-2): The function calculates -2 * 4 (which is -8) and prints \"-8\"."
   ]
  },
  {
   "cell_type": "markdown",
   "metadata": {},
   "source": [
    "### 4. Write a closure to let the user conveniently set the CONST value, and then call product with that value, as shown below."
   ]
  },
  {
   "cell_type": "code",
   "execution_count": null,
   "metadata": {},
   "outputs": [],
   "source": [
    "taskList = [0, doTask1, dotask2, doTask3, doTask4] taskList[userInput](inputArg)\n",
    "\n",
    "mult = setConst(5)         \n",
    "mult(8)       # should get 40\n",
    "mult(-2)      # should get -10\n",
    "       \n",
    "mult = setConst(4)          \n",
    "mult(8)       # should get 32\n",
    "mult(-2)      # should get -8"
   ]
  },
  {
   "cell_type": "code",
   "execution_count": null,
   "metadata": {},
   "outputs": [],
   "source": [
    "# ANSWER:\n",
    "'''\n",
    "You can create a closure function called setConst that takes the CONST value as a parameter \n",
    "and returns a product function that multiplies its argument by the CONST value.\n",
    "'''\n",
    "def setConst(CONST):\n",
    "    def product(n):\n",
    "        return n * CONST # inner func uses CONST \n",
    "    return product # outer returns name of inner func\n",
    "\n",
    "# Set CONST value to 5\n",
    "mult = setConst(5)\n",
    "print(mult(8))   # should get 40\n",
    "print(mult(-2))  # should get -10\n",
    "\n",
    "# Set CONST value to 4\n",
    "mult = setConst(4)\n",
    "print(mult(8))   # should get 32\n",
    "print(mult(-2))  # should get -8\n"
   ]
  },
  {
   "cell_type": "markdown",
   "metadata": {},
   "source": [
    "### 5. One usage of decorators is for debugging.\n",
    "\n",
    "#### Suppose we have a function that modifies an object, like the sorting function below that modifies aList.  "
   ]
  },
  {
   "cell_type": "code",
   "execution_count": 3,
   "metadata": {},
   "outputs": [
    {
     "name": "stdout",
     "output_type": "stream",
     "text": [
      "[-3, 1, 2, 5, 6, 10]\n"
     ]
    }
   ],
   "source": [
    "aList = [5, 2, -3, 1, 6, 10]\n",
    "\n",
    "def sorting(aList) :\n",
    "    aList.sort()\n",
    "    \n",
    "sorting(aList)\n",
    "print(aList)"
   ]
  },
  {
   "cell_type": "markdown",
   "metadata": {},
   "source": [
    "Write a  decorator called trace that will print what aList looks like before sorting runs and what it looks like after sort runs, to see if sorting works."
   ]
  },
  {
   "cell_type": "code",
   "execution_count": 4,
   "metadata": {},
   "outputs": [],
   "source": [
    "aList = [5, 2, -3, 1, 6, 10]\n",
    "\n",
    "def sorting(aList) :\n",
    "    aList.sort()\n",
    "\n",
    "sorting(aList)\n",
    "# the print statement has been removed because the trace decorator will print for us\n"
   ]
  },
  {
   "cell_type": "markdown",
   "metadata": {},
   "source": [
    "trace that a function as an argument and returns a new function that prints the state of aList before and after calling the original function. Apply this decorator to the sorting function:"
   ]
  },
  {
   "cell_type": "code",
   "execution_count": null,
   "metadata": {},
   "outputs": [],
   "source": [
    "# ANSWER:\n",
    "\n",
    "def trace(func):\n",
    "    def wrapper(args):    # fix: should be *args, **kwargs\n",
    "        print(\"Before:\", aList)\n",
    "        func(aList)\n",
    "        print(\"After:\", aList)\n",
    "    return wrapper\n",
    "\n",
    "aList = [5, 2, -3, 1, 6, 10]\n",
    "\n",
    "@trace\n",
    "def sorting(aList):\n",
    "    aList.sort()\n",
    "\n",
    "sorting(aList)"
   ]
  },
  {
   "cell_type": "code",
   "execution_count": 9,
   "metadata": {},
   "outputs": [
    {
     "name": "stdout",
     "output_type": "stream",
     "text": [
      "Before: [5, 2, -3, 1, 6, 10]\n",
      "After: [-3, 1, 2, 5, 6, 10]\n",
      "sorted 6 values in [-3, 1, 2, 5, 6, 10]\n"
     ]
    }
   ],
   "source": [
    "# IN CLASS ANSWER:\n",
    "\n",
    "aList = [5, 2, -3, 1, 6, 10]\n",
    "\n",
    "        # sorting\n",
    "def trace(func):\n",
    "    def inner(*args, **kwargs):\n",
    "        # args: (aList,)   kwargs: empty dictionary\n",
    "        \n",
    "        # printings: aList   empty\n",
    "        print(\"Before:\", *args, *kwargs.values())\n",
    "        \n",
    "        # rv = f(aList)\n",
    "        rv = func(*args, **kwargs)\n",
    "        print(\"After:\", *args, *kwargs.values())\n",
    "        return rv\n",
    "    return inner\n",
    "\n",
    "@trace\n",
    "def sorting(aList):\n",
    "    aList.sort()\n",
    "    return len(aList)\n",
    "\n",
    "rv = sorting(aList)\n",
    "print(\"sorted\", rv, \"values in\", aList)"
   ]
  },
  {
   "cell_type": "markdown",
   "metadata": {},
   "source": [
    "#### Suppose we have a push function below. Use trace to see if the function produces the correct results."
   ]
  },
  {
   "cell_type": "code",
   "execution_count": 11,
   "metadata": {},
   "outputs": [
    {
     "name": "stdout",
     "output_type": "stream",
     "text": [
      "[-3, 1, 2, 5, 6, 10, 20, -3, -4, -5]\n",
      "[-3, 1, 2, 5, 6, 10, 20, -3, -4, -5, 20]\n",
      "[-3, 1, 2, 5, 6, 10, 20, -3, -4, -5, 20, -3, -4, -5]\n"
     ]
    }
   ],
   "source": [
    "def push(aList, oneVal=None, manyVals=None) :\n",
    "    if oneVal : \n",
    "        aList.append(oneVal)\n",
    "    if manyVals :\n",
    "        aList.extend(manyVals)\n",
    "        \n",
    "push(aList)\n",
    "print(aList)\n",
    "push(aList, 20)\n",
    "print(aList)\n",
    "push(aList, manyVals=[-3, -4, -5])\n",
    "print(aList)\n"
   ]
  },
  {
   "cell_type": "markdown",
   "metadata": {},
   "source": [
    "You can use the trace decorator from the previous example to see the state of aList before and after each call to the push function. Here's how you can implement this:"
   ]
  },
  {
   "cell_type": "code",
   "execution_count": 12,
   "metadata": {},
   "outputs": [
    {
     "name": "stdout",
     "output_type": "stream",
     "text": [
      "Before: [5, 2, -3, 1, 6, 10]\n",
      "After: [5, 2, -3, 1, 6, 10]\n",
      "Before: [5, 2, -3, 1, 6, 10] 20\n",
      "After: [5, 2, -3, 1, 6, 10, 20] 20\n",
      "Before: [5, 2, -3, 1, 6, 10, 20] [-3, -4, -5]\n",
      "After: [5, 2, -3, 1, 6, 10, 20, -3, -4, -5] [-3, -4, -5]\n"
     ]
    }
   ],
   "source": [
    "aList = [5, 2, -3, 1, 6, 10]\n",
    "\n",
    "@trace\n",
    "def push(aList, oneVal=None, manyVals=None):\n",
    "    if oneVal:\n",
    "        aList.append(oneVal)\n",
    "    if manyVals:\n",
    "        aList.extend(manyVals)\n",
    "\n",
    "push(aList)                      # No change, since no arguments are provided\n",
    "push(aList, 20)                  # Appends 20 to the list\n",
    "push(aList, manyVals=[-3, -4, -5])  # Extends the list with [-3, -4, -5]\n"
   ]
  },
  {
   "cell_type": "markdown",
   "metadata": {},
   "source": [
    "With the trace decorator applied to the push function, you can see the state of aList before and after each call, allowing you to verify that the function produces the correct results."
   ]
  },
  {
   "cell_type": "code",
   "execution_count": 15,
   "metadata": {},
   "outputs": [
    {
     "name": "stdout",
     "output_type": "stream",
     "text": [
      "[(0, -2), (4, -1), (6, 1), (1, 4), (3, 8)]\n"
     ]
    }
   ],
   "source": [
    "L = [(1,4),(0,-2),(3,8),(4,-1),(6,1)]\n",
    "print(sorted(L, key=lambda t:t[1])) # sort by 2nd element\n",
    "\n",
    "def newSort(aList, limit):\n",
    "    def newRet:\n",
    "        \n",
    "\n"
   ]
  },
  {
   "cell_type": "code",
   "execution_count": null,
   "metadata": {},
   "outputs": [],
   "source": []
  }
 ],
 "metadata": {
  "kernelspec": {
   "display_name": "Python 3 (ipykernel)",
   "language": "python",
   "name": "python3"
  },
  "language_info": {
   "codemirror_mode": {
    "name": "ipython",
    "version": 3
   },
   "file_extension": ".py",
   "mimetype": "text/x-python",
   "name": "python",
   "nbconvert_exporter": "python",
   "pygments_lexer": "ipython3",
   "version": "3.9.12"
  }
 },
 "nbformat": 4,
 "nbformat_minor": 4
}
