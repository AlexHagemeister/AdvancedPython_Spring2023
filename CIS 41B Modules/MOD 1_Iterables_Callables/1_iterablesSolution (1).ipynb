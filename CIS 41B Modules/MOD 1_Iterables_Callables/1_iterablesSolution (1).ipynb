{
 "cells": [
  {
   "cell_type": "markdown",
   "metadata": {},
   "source": [
    "### Review Python, Iterables"
   ]
  },
  {
   "cell_type": "markdown",
   "metadata": {},
   "source": [
    "Some questions from the class before the start of the exercise"
   ]
  },
  {
   "cell_type": "code",
   "execution_count": 11,
   "metadata": {},
   "outputs": [
    {
     "name": "stdout",
     "output_type": "stream",
     "text": [
      "[3, 5, 8, 12]\n",
      "<list_reverseiterator object at 0x000001B1E7269970>\n",
      "12\n",
      "8\n"
     ]
    }
   ],
   "source": [
    "L = [5, 12, 3, 8]\n",
    "\n",
    "# What's the difference between an iterable and an iterator?\n",
    "print(sorted(L))             # sorted return an iterable\n",
    "print(reversed(L))           # reversed return an iterator\n",
    "\n",
    "S = sorted(L)\n",
    "print(S[-1])           # an iterable can take up a lot of space in memory if the \n",
    "                       # sequence is large, but it's easy to do random access of\n",
    "                       # the data by using indexing\n",
    "                      \n",
    "R = reversed(L)\n",
    "#print(R[-1])          # an iterator is a single object and takes little space\n",
    "                       # but an iterator can't use indexing so there's no random\n",
    "                       # access of data\n",
    "print(next(R))         # Data are only accessed sequentially"
   ]
  },
  {
   "cell_type": "code",
   "execution_count": 12,
   "metadata": {},
   "outputs": [
    {
     "name": "stdout",
     "output_type": "stream",
     "text": [
      "5\n"
     ]
    }
   ],
   "source": [
    "# to be able to access data randomly, need to convert an iterator to an iterable\n",
    "myList = list(R)\n",
    "print(myList[-1])"
   ]
  },
  {
   "cell_type": "code",
   "execution_count": null,
   "metadata": {},
   "outputs": [],
   "source": [
    "# Now for the actual exercise questions"
   ]
  },
  {
   "cell_type": "markdown",
   "metadata": {},
   "source": [
    "1. Print the count of each letter in the string s, sorted by letter\n",
    "\n",
    "   Challenge: can you find 2 ways to do this?"
   ]
  },
  {
   "cell_type": "code",
   "execution_count": 13,
   "metadata": {},
   "outputs": [
    {
     "name": "stdout",
     "output_type": "stream",
     "text": [
      "a 2\n",
      "c 1\n",
      "f 1\n",
      "i 2\n",
      "l 1\n",
      "n 1\n",
      "o 1\n",
      "r 1\n"
     ]
    }
   ],
   "source": [
    "s = \"california\"\n",
    "\n",
    "# first way: use a regular dictionary\n",
    "D = {}\n",
    "for letter in s :\n",
    "    D[letter] = D.get(letter, 0) + 1\n",
    "for k in sorted(D) :\n",
    "    print(k, D[k])"
   ]
  },
  {
   "cell_type": "code",
   "execution_count": 14,
   "metadata": {},
   "outputs": [
    {
     "name": "stdout",
     "output_type": "stream",
     "text": [
      "a 2\n",
      "c 1\n",
      "f 1\n",
      "i 2\n",
      "l 1\n",
      "n 1\n",
      "o 1\n",
      "r 1\n"
     ]
    }
   ],
   "source": [
    "# second way: use a default dictionary\n",
    "\n",
    "import collections\n",
    "\n",
    "D = collections.defaultdict(int)\n",
    "for letter in s :\n",
    "    D[letter] += 1\n",
    "for k in sorted(D) :\n",
    "    print(k, D[k])"
   ]
  },
  {
   "cell_type": "code",
   "execution_count": 28,
   "metadata": {},
   "outputs": [
    {
     "name": "stdout",
     "output_type": "stream",
     "text": [
      "a 2\n",
      "c 1\n",
      "f 1\n",
      "i 2\n",
      "l 1\n",
      "n 1\n",
      "o 1\n",
      "r 1\n"
     ]
    }
   ],
   "source": [
    "# third way, as suggested by someone in class: use count()\n",
    "\n",
    "tempSet = set(s)\n",
    "for letter in sorted(tempSet) :\n",
    "    print(letter, s.count(letter))"
   ]
  },
  {
   "cell_type": "markdown",
   "metadata": {},
   "source": [
    "2. Print the count of each letter in the string s, sorted by count"
   ]
  },
  {
   "cell_type": "code",
   "execution_count": 26,
   "metadata": {},
   "outputs": [
    {
     "name": "stdout",
     "output_type": "stream",
     "text": [
      "c 1\n",
      "l 1\n",
      "f 1\n",
      "o 1\n",
      "r 1\n",
      "n 1\n",
      "a 2\n",
      "i 2\n"
     ]
    }
   ],
   "source": [
    "s = \"california\"\n",
    "\n",
    "D = {}\n",
    "for letter in s :\n",
    "    D[letter] = D.get(letter, 0) + 1\n",
    "\n",
    "def keyfunction(k) :\n",
    "    return D[k]\n",
    "\n",
    "for k in sorted(D,key=keyfunction) :\n",
    "    print(k, D[k])"
   ]
  },
  {
   "cell_type": "code",
   "execution_count": 27,
   "metadata": {},
   "outputs": [
    {
     "name": "stdout",
     "output_type": "stream",
     "text": [
      "c 1\n",
      "l 1\n",
      "f 1\n",
      "o 1\n",
      "r 1\n",
      "n 1\n",
      "a 2\n",
      "i 2\n"
     ]
    }
   ],
   "source": [
    "# since keyfunction is: 1) only used by sorted and not anwywhere else\n",
    "# and 2) keyfunction has a simple input and simple output\n",
    "# it meets the requirements to be a lambda function\n",
    "\n",
    "for k in sorted(D,key=lambda k:D[k]) :\n",
    "    print(k, D[k])\n",
    "    \n",
    "# advantage of lambda in this case: the code is cleaner,  \n",
    "# and not cluttered with an extra keyfunction"
   ]
  },
  {
   "cell_type": "markdown",
   "metadata": {},
   "source": [
    "3. Print words below as a sentence: Python is great"
   ]
  },
  {
   "cell_type": "code",
   "execution_count": 15,
   "metadata": {},
   "outputs": [
    {
     "name": "stdout",
     "output_type": "stream",
     "text": [
      "Python is great \n",
      "Python is great\n",
      "Python is great\n"
     ]
    }
   ],
   "source": [
    "words = (\"Python\", \"is\", \"great\")\n",
    "\n",
    "# using a loop\n",
    "for w in words :\n",
    "    print(w, end=' ')\n",
    "print()\n",
    "\n",
    "# using string join()\n",
    "print(' '.join(words))\n",
    "\n",
    "# using unpack\n",
    "print(*words)"
   ]
  },
  {
   "cell_type": "markdown",
   "metadata": {},
   "source": [
    "4. Is any value in L negative? print True or False\n",
    "\n",
    "   Are all values below 50? print True or False"
   ]
  },
  {
   "cell_type": "code",
   "execution_count": 16,
   "metadata": {},
   "outputs": [
    {
     "name": "stdout",
     "output_type": "stream",
     "text": [
      "True\n",
      "True\n"
     ]
    }
   ],
   "source": [
    "L = [10, 22, 3, 40, -50, 45, 12, 3, 8, -2, 13, 28]\n",
    "print(any(val<0 for val in L))\n",
    "print(all(val<50 for val in L))"
   ]
  },
  {
   "cell_type": "markdown",
   "metadata": {},
   "source": [
    "5. Write code to create a dictionary called h with keys 'A' to 'F' and values 10 to 15"
   ]
  },
  {
   "cell_type": "code",
   "execution_count": 18,
   "metadata": {},
   "outputs": [
    {
     "data": {
      "text/plain": [
       "{'A': 10, 'B': 11, 'C': 12, 'D': 13, 'E': 14, 'F': 15}"
      ]
     },
     "execution_count": 18,
     "metadata": {},
     "output_type": "execute_result"
    }
   ],
   "source": [
    "h = dict(zip('ABCDEF', range(10,16)))\n",
    "h"
   ]
  },
  {
   "cell_type": "markdown",
   "metadata": {},
   "source": [
    "6. Write an iterator called Counting1 that keeps returning an integer starting from 1 and counting up to a user defined limit.\n",
    "\n",
    "   Then in the 2nd cell, change the iterator so there's no upper limit and name it Counting2"
   ]
  },
  {
   "cell_type": "code",
   "execution_count": 29,
   "metadata": {},
   "outputs": [
    {
     "name": "stdout",
     "output_type": "stream",
     "text": [
      "1\n",
      "2\n",
      "3\n",
      "4\n",
      "1\n",
      "2\n",
      "3\n",
      "4\n",
      "1 2 3 4\n"
     ]
    }
   ],
   "source": [
    "class Counting1 :\n",
    "    def __init__(self, limit) :\n",
    "        self._limit = limit\n",
    "        self._num = 0\n",
    "        \n",
    "    def __iter__(self) :    # required for an iterator\n",
    "        return self\n",
    "    \n",
    "    def __next__(self) :    # required for an iterator\n",
    "        if self._num < self._limit :\n",
    "            self._num += 1\n",
    "            return self._num\n",
    "        else :\n",
    "            raise StopIteration\n",
    "            \n",
    "c1 = Counting1(4)\n",
    "for i in range(4) :\n",
    "    print(next(c1))\n",
    "    \n",
    "c1 = Counting1(4)\n",
    "for val in c1 :\n",
    "    print(val)\n",
    "    \n",
    "c1 = Counting1(4)\n",
    "print(*c1)"
   ]
  },
  {
   "cell_type": "code",
   "execution_count": 31,
   "metadata": {},
   "outputs": [
    {
     "name": "stdout",
     "output_type": "stream",
     "text": [
      "1 2 3 4 5 6 7 8 9 10 11 12 13 14 15 "
     ]
    }
   ],
   "source": [
    "class Counting2 :\n",
    "    def __init__(self) :\n",
    "        self._num = 0\n",
    "        \n",
    "    def __iter__(self) :\n",
    "        return self\n",
    "    \n",
    "    def __next__(self) :\n",
    "        self._num += 1\n",
    "        return self._num\n",
    "\n",
    "c2 = Counting2()\n",
    "for i in range(15) :\n",
    "    print(next(c2), end=' ')"
   ]
  },
  {
   "cell_type": "markdown",
   "metadata": {},
   "source": [
    "7. Change the Counting1 iterator into a generator\n",
    "\n",
    "   Then in the second cell, change the Counting2 iterator into a generator"
   ]
  },
  {
   "cell_type": "code",
   "execution_count": 32,
   "metadata": {},
   "outputs": [
    {
     "name": "stdout",
     "output_type": "stream",
     "text": [
      "1\n",
      "2\n",
      "3\n",
      "4\n",
      "1\n",
      "2\n",
      "3\n",
      "4\n",
      "1 2 3 4\n"
     ]
    }
   ],
   "source": [
    "limit = 4\n",
    "gen1 = (val for val in range(1,limit+1)) # let python write the iterator\n",
    "\n",
    "for i in range(4) :\n",
    "    print(next(gen1))\n",
    "    \n",
    "gen1 = (val for val in range(1,limit+1))\n",
    "for val in gen1 :\n",
    "    print(val)\n",
    "    \n",
    "gen1 = (val for val in range(1,limit+1))\n",
    "print(*gen1)"
   ]
  },
  {
   "cell_type": "code",
   "execution_count": 25,
   "metadata": {},
   "outputs": [
    {
     "name": "stdout",
     "output_type": "stream",
     "text": [
      "1\n",
      "2\n",
      "3\n",
      "4\n",
      "5\n"
     ]
    }
   ],
   "source": [
    "# let python write the iterator\n",
    "def gen2() :\n",
    "    num = 0\n",
    "    while True :\n",
    "        num += 1\n",
    "        yield num\n",
    "        \n",
    "g = gen2()\n",
    "for i in range(5) :\n",
    "    print(next(g))"
   ]
  },
  {
   "cell_type": "code",
   "execution_count": null,
   "metadata": {},
   "outputs": [],
   "source": []
  }
 ],
 "metadata": {
  "kernelspec": {
   "display_name": "Python 3 (ipykernel)",
   "language": "python",
   "name": "python3"
  },
  "language_info": {
   "codemirror_mode": {
    "name": "ipython",
    "version": 3
   },
   "file_extension": ".py",
   "mimetype": "text/x-python",
   "name": "python",
   "nbconvert_exporter": "python",
   "pygments_lexer": "ipython3",
   "version": "3.9.12"
  }
 },
 "nbformat": 4,
 "nbformat_minor": 4
}
