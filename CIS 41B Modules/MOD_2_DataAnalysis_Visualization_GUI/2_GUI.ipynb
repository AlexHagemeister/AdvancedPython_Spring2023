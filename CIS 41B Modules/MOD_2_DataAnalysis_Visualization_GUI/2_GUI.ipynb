{
 "cells": [
  {
   "cell_type": "markdown",
   "metadata": {},
   "source": [
    "Module 2: GUI"
   ]
  },
  {
   "cell_type": "markdown",
   "metadata": {},
   "source": [
    "1. Create a simple window that's 200 (width) x 100 (height), with a title \"GUI exercise\""
   ]
  },
  {
   "cell_type": "code",
   "execution_count": 1,
   "metadata": {},
   "outputs": [],
   "source": [
    "import tkinter as tk"
   ]
  },
  {
   "cell_type": "code",
   "execution_count": 2,
   "metadata": {},
   "outputs": [
    {
     "data": {
      "text/plain": [
       "''"
      ]
     },
     "execution_count": 2,
     "metadata": {},
     "output_type": "execute_result"
    }
   ],
   "source": [
    "win = tk.Tk()\n",
    "win.geometry(\"200x100\")\n",
    "win.title(\"GUI Exercise\")\n",
    "#win.mainloop()"
   ]
  },
  {
   "cell_type": "markdown",
   "metadata": {},
   "source": [
    "2. Create 2 tkinter text string, name them entryText and choiceText. Set choiceText to \"Name\", leave entryText uninitialized."
   ]
  },
  {
   "cell_type": "code",
   "execution_count": 3,
   "metadata": {},
   "outputs": [],
   "source": [
    "entryText = tk.StringVar()\n",
    "choiceText = tk.StringVar()\n",
    "choiceText.set(\"Name\")"
   ]
  },
  {
   "cell_type": "markdown",
   "metadata": {},
   "source": [
    "3. Create a label to prompt the user with the string in choiceText, read in the user input in entryText, and print the user input to the console output (normal text output) in the format:  \n",
    "Got it. Your choiceText is entryText"
   ]
  },
  {
   "cell_type": "code",
   "execution_count": 4,
   "metadata": {},
   "outputs": [
    {
     "data": {
      "text/plain": [
       "'140183323945536printfct'"
      ]
     },
     "execution_count": 4,
     "metadata": {},
     "output_type": "execute_result"
    }
   ],
   "source": [
    "def printfct(event):\n",
    "    print(\"Got it. Your\", choiceText.get(), \"is\", entryText.get())\n",
    "    \n",
    "L = tk.Label(win, textvariable=choiceText)\n",
    "L.grid()\n",
    "E = tk.Entry(win, textvariable=entryText)\n",
    "E.grid()\n",
    "E.bind(\"<Return>\", printfct)\n",
    "\n",
    "# win.mainloop()"
   ]
  },
  {
   "cell_type": "markdown",
   "metadata": {},
   "source": [
    "4. Add 2 radio buttons: Name, Major. Configure the buttons such that when the user clicks on a button, the label shows the correct prompt (Name or Major), and the Entry object is cleared. After the user enters their input, the user choice is printed as before."
   ]
  },
  {
   "cell_type": "code",
   "execution_count": 5,
   "metadata": {},
   "outputs": [],
   "source": [
    "# 4. Add 2 radio buttons: Name, Major. Configure the buttons such that when the user clicks on a button, \n",
    "# the label shows the correct prompt (Name or Major), and the Entry object is cleared. \n",
    "# After the user enters their input, the user choice is printed as before.\n"
   ]
  },
  {
   "cell_type": "markdown",
   "metadata": {},
   "source": [
    "5. Add a button called x^2 such that when clicked, will produce a new window with the plot of f(x)=x^2 for -5 <= x <= 5"
   ]
  },
  {
   "cell_type": "code",
   "execution_count": null,
   "metadata": {},
   "outputs": [],
   "source": []
  },
  {
   "cell_type": "markdown",
   "metadata": {},
   "source": [
    "6. Override the event X to close window by printing a message box to confirm with the user, and end the GUI only if the user chooses OK."
   ]
  },
  {
   "cell_type": "code",
   "execution_count": null,
   "metadata": {},
   "outputs": [],
   "source": []
  }
 ],
 "metadata": {
  "kernelspec": {
   "display_name": "Python 3 (ipykernel)",
   "language": "python",
   "name": "python3"
  },
  "language_info": {
   "codemirror_mode": {
    "name": "ipython",
    "version": 3
   },
   "file_extension": ".py",
   "mimetype": "text/x-python",
   "name": "python",
   "nbconvert_exporter": "python",
   "pygments_lexer": "ipython3",
   "version": "3.9.12"
  }
 },
 "nbformat": 4,
 "nbformat_minor": 4
}
