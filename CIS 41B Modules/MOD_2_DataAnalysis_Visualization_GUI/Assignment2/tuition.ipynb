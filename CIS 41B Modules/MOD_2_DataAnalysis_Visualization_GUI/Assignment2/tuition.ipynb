{
 "cells": [
  {
   "cell_type": "code",
   "execution_count": 1,
   "metadata": {},
   "outputs": [],
   "source": [
    "import pandas as pd\n",
    "import matplotlib.pyplot as plt\n",
    "import numpy as np\n",
    "\n",
    "\n",
    "class Tuition:\n",
    "    def __init__(self, costs_file, states_file, years_file):\n",
    "        self.costs = pd.read_csv(costs_file, header=0).iloc[:, 1:]  # remove Alaska\n",
    "        self.states = pd.read_csv(states_file, header=None)[0].iloc[1:].tolist()  # remove Alaska\n",
    "        self.years = pd.read_csv(years_file, header=None)[0].str.split('-').str[0].tolist()\n",
    "\n",
    "    def get_current_tuition_stats(self):\n",
    "        tuition_2022 = self.costs.iloc[:, -1]\n",
    "        return [int(round(tuition_2022.min())), int(round(tuition_2022.max())), int(round(tuition_2022.mean())),\n",
    "                int(round(tuition_2022.median()))]\n",
    "\n",
    "    def plot_tuition_distribution(self):\n",
    "        tuition_2022 = self.costs.iloc[:, -1]\n",
    "        num_states = len(tuition_2022)\n",
    "        plt.hist(tuition_2022, bins=20)\n",
    "        plt.title(\"Tuition Distribution in 2022-23\")\n",
    "        plt.xlabel(\"Tuition\")\n",
    "        plt.ylabel(\"Number of States\")\n",
    "        plt.show()\n",
    "        return num_states\n",
    "\n",
    "    def plot_lowest_tuition_states(self, n_states):\n",
    "        tuition_2022 = self.costs.iloc[:, -1]\n",
    "        lowest_tuition_states = tuition_2022.nsmallest(n_states)\n",
    "        lowest_tuition_states_names = self.costs.iloc[lowest_tuition_states.index].index.tolist()\n",
    "        plt.bar(lowest_tuition_states_names, lowest_tuition_states)\n",
    "        plt.title(f\"Tuition for the {n_states} States with the Lowest Tuition in 2022-23\")\n",
    "        plt.xlabel(\"State\")\n",
    "        plt.ylabel(\"Tuition\")\n",
    "        plt.xticks(rotation=45, ha='right')\n",
    "        plt.show()\n",
    "        return self.states[tuition_2022.idxmin()]\n",
    "\n",
    "    def plot_tuition_trend(self):\n",
    "        tuition_diff = self.costs.diff(axis=1).iloc[:, 1:]\n",
    "        largest_increase_states = tuition_diff.sum().nlargest(5).index.tolist()\n",
    "        smallest_increase_state = tuition_diff.sum().nsmallest(1).index[0]\n",
    "        for state in largest_increase_states:\n",
    "            plt.plot(self.years, self.costs.loc[self.states.index(state), :], label=state, marker='o')\n",
    "        plt.plot(self.years, self.costs.loc[self.states.index(smallest_increase_state), :], label=smallest_increase_state, marker='s')\n",
    "        plt.title(\"Tuition Trend from First to Last Available Years\")\n",
    "        plt.xlabel(\"Year\")\n",
    "        plt.ylabel(\"Tuition\")\n",
    "        plt.legend(loc=\"best\")\n",
    "        plt.show()\n",
    "        return self.states[self.costs.diff(axis=1).iloc[:, 1:].sum().idxmax()]"
   ]
  },
  {
   "cell_type": "code",
   "execution_count": 3,
   "metadata": {},
   "outputs": [],
   "source": [
    "costs_filepath = \"/Users/alexhagemeister/PROGRAMMING/Python/AdvancedPython_Spring2023/CIS 41B Modules/MOD_2_DataAnalysis_Visualization_GUI/Assignment2/costs.csv\"\n",
    "states_filepath = \"/Users/alexhagemeister/PROGRAMMING/Python/AdvancedPython_Spring2023/CIS 41B Modules/MOD_2_DataAnalysis_Visualization_GUI/Assignment2/states.csv\"\n",
    "years_filepath = \"/Users/alexhagemeister/PROGRAMMING/Python/AdvancedPython_Spring2023/CIS 41B Modules/MOD_2_DataAnalysis_Visualization_GUI/Assignment2/years.csv\"\n",
    "\n",
    "tuition = Tuition(costs_filepath, states_filepath, years_filepath)"
   ]
  },
  {
   "cell_type": "code",
   "execution_count": 4,
   "metadata": {},
   "outputs": [
    {
     "data": {
      "text/plain": [
       "[0, 8660, 4622, 4639]"
      ]
     },
     "execution_count": 4,
     "metadata": {},
     "output_type": "execute_result"
    }
   ],
   "source": [
    "tuition.get_current_tuition_stats()"
   ]
  },
  {
   "cell_type": "code",
   "execution_count": 5,
   "metadata": {},
   "outputs": [
    {
     "data": {
      "image/png": "[encoded data removed]",
      "text/plain": [
       "<Figure size 432x288 with 1 Axes>"
      ]
     },
     "metadata": {
      "needs_background": "light"
     },
     "output_type": "display_data"
    },
    {
     "data": {
      "text/plain": [
       "49"
      ]
     },
     "execution_count": 5,
     "metadata": {},
     "output_type": "execute_result"
    }
   ],
   "source": [
    "tuition.plot_tuition_distribution()"
   ]
  },
  {
   "cell_type": "code",
   "execution_count": null,
   "metadata": {},
   "outputs": [],
   "source": []
  }
 ],
 "metadata": {
  "kernelspec": {
   "display_name": "Python 3 (ipykernel)",
   "language": "python",
   "name": "python3"
  },
  "language_info": {
   "codemirror_mode": {
    "name": "ipython",
    "version": 3
   },
   "file_extension": ".py",
   "mimetype": "text/x-python",
   "name": "python",
   "nbconvert_exporter": "python",
   "pygments_lexer": "ipython3",
   "version": "3.9.12"
  }
 },
 "nbformat": 4,
 "nbformat_minor": 4
}
