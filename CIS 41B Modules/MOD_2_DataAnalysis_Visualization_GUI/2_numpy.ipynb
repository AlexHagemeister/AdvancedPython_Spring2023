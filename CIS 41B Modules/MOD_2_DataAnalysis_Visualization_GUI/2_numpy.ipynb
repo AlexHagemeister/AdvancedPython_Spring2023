{
 "cells": [
  {
   "cell_type": "markdown",
   "metadata": {},
   "source": [
    "Module 2 - numpy"
   ]
  },
  {
   "cell_type": "markdown",
   "metadata": {},
   "source": [
    "1a. Create a csv file from the list below"
   ]
  },
  {
   "cell_type": "code",
   "execution_count": 33,
   "metadata": {},
   "outputs": [],
   "source": [
    "table = [ \"123 lucy psychology 3.25\".split(), \"345 linus undeclared 2.89\".split(), \"567 schroeder music 3.93\".split() ] "
   ]
  },
  {
   "cell_type": "code",
   "execution_count": 36,
   "metadata": {},
   "outputs": [],
   "source": [
    "import csv \n",
    "with open(\"ex2.csv\", 'w', newline = '') as f:\n",
    "    writer = csv.writer(f)\n",
    "    for row in table:\n",
    "        writer.writerow(row)"
   ]
  },
  {
   "cell_type": "code",
   "execution_count": null,
   "metadata": {},
   "outputs": [],
   "source": []
  },
  {
   "cell_type": "markdown",
   "metadata": {},
   "source": [
    "1b. Print data from the CSV file to show that it was created successfully"
   ]
  },
  {
   "cell_type": "code",
   "execution_count": 12,
   "metadata": {},
   "outputs": [
    {
     "name": "stdout",
     "output_type": "stream",
     "text": [
      "['123', 'lucy', 'psychology', '3.25']\n",
      "['345', 'linus', 'undeclared', '2.89']\n",
      "['567', 'schroeder', 'music', '3.93']\n",
      "123 lucy psychology 3.25\n",
      "345 linus undeclared 2.89\n",
      "567 schroeder music 3.93\n"
     ]
    }
   ],
   "source": [
    "with open(\"ex2.csv\", 'r', newline = '') as f:\n",
    "    reader = csv.reader(f)\n",
    "    for alist in reader:\n",
    "        print(alist)\n"
   ]
  },
  {
   "cell_type": "code",
   "execution_count": 38,
   "metadata": {},
   "outputs": [
    {
     "name": "stdout",
     "output_type": "stream",
     "text": [
      "123,lucy,psychology,3.25\n",
      "345,linus,undeclared,2.89\n",
      "567,schroeder,music,3.93\n"
     ]
    }
   ],
   "source": [
    "with open(\"ex2.csv\", 'r', newline = '') as f:\n",
    "    for line in f:\n",
    "        print(line.rstrip())"
   ]
  },
  {
   "cell_type": "code",
   "execution_count": 39,
   "metadata": {},
   "outputs": [
    {
     "name": "stdout",
     "output_type": "stream",
     "text": [
      "123,lucy,psychology,3.25\n",
      "\n"
     ]
    }
   ],
   "source": [
    "# its a generator!\n",
    "with open(\"ex2.csv\") as f:\n",
    "    print(next(f))"
   ]
  },
  {
   "cell_type": "code",
   "execution_count": 41,
   "metadata": {},
   "outputs": [
    {
     "data": {
      "text/plain": [
       "array([['123', 'lucy', 'psychology', '3.25'],\n",
       "       ['345', 'linus', 'undeclared', '2.89'],\n",
       "       ['567', 'schroeder', 'music', '3.93']], dtype='<U10')"
      ]
     },
     "execution_count": 41,
     "metadata": {},
     "output_type": "execute_result"
    }
   ],
   "source": [
    "import numpy as np\n",
    "arr = np.loadtxt(\"ex2.csv\", delimiter = ',', dtype=str)\n",
    "arr"
   ]
  },
  {
   "cell_type": "markdown",
   "metadata": {},
   "source": [
    "2a. Given the following code, predict and then show the data type and shape of the array"
   ]
  },
  {
   "cell_type": "code",
   "execution_count": 13,
   "metadata": {},
   "outputs": [],
   "source": [
    "import numpy as np\n",
    "\n",
    "L = [1,3,5,7,9]\n",
    "arr = np.array(([1,2,3,4,5], L, [10,20,30.5,52.8,12], list(range(5))))\n"
   ]
  },
  {
   "cell_type": "code",
   "execution_count": 42,
   "metadata": {},
   "outputs": [
    {
     "name": "stdout",
     "output_type": "stream",
     "text": [
      "<U10\n"
     ]
    },
    {
     "data": {
      "text/plain": [
       "\u001b[0;31mType:\u001b[0m        ndarray\n",
       "\u001b[0;31mString form:\u001b[0m\n",
       "[['123' 'lucy' 'psychology' '3.25']\n",
       " ['345' 'linus' 'undeclared' '2.89']\n",
       " ['567' 'schroeder' 'music' '3.93']]\n",
       "\u001b[0;31mLength:\u001b[0m      3\n",
       "\u001b[0;31mFile:\u001b[0m        ~/opt/anaconda3/lib/python3.9/site-packages/numpy/__init__.py\n",
       "\u001b[0;31mDocstring:\u001b[0m  \n",
       "ndarray(shape, dtype=float, buffer=None, offset=0,\n",
       "        strides=None, order=None)\n",
       "\n",
       "An array object represents a multidimensional, homogeneous array\n",
       "of fixed-size items.  An associated data-type object describes the\n",
       "format of each element in the array (its byte-order, how many bytes it\n",
       "occupies in memory, whether it is an integer, a floating point number,\n",
       "or something else, etc.)\n",
       "\n",
       "Arrays should be constructed using `array`, `zeros` or `empty` (refer\n",
       "to the See Also section below).  The parameters given here refer to\n",
       "a low-level method (`ndarray(...)`) for instantiating an array.\n",
       "\n",
       "For more information, refer to the `numpy` module and examine the\n",
       "methods and attributes of an array.\n",
       "\n",
       "Parameters\n",
       "----------\n",
       "(for the __new__ method; see Notes below)\n",
       "\n",
       "shape : tuple of ints\n",
       "    Shape of created array.\n",
       "dtype : data-type, optional\n",
       "    Any object that can be interpreted as a numpy data type.\n",
       "buffer : object exposing buffer interface, optional\n",
       "    Used to fill the array with data.\n",
       "offset : int, optional\n",
       "    Offset of array data in buffer.\n",
       "strides : tuple of ints, optional\n",
       "    Strides of data in memory.\n",
       "order : {'C', 'F'}, optional\n",
       "    Row-major (C-style) or column-major (Fortran-style) order.\n",
       "\n",
       "Attributes\n",
       "----------\n",
       "T : ndarray\n",
       "    Transpose of the array.\n",
       "data : buffer\n",
       "    The array's elements, in memory.\n",
       "dtype : dtype object\n",
       "    Describes the format of the elements in the array.\n",
       "flags : dict\n",
       "    Dictionary containing information related to memory use, e.g.,\n",
       "    'C_CONTIGUOUS', 'OWNDATA', 'WRITEABLE', etc.\n",
       "flat : numpy.flatiter object\n",
       "    Flattened version of the array as an iterator.  The iterator\n",
       "    allows assignments, e.g., ``x.flat = 3`` (See `ndarray.flat` for\n",
       "    assignment examples; TODO).\n",
       "imag : ndarray\n",
       "    Imaginary part of the array.\n",
       "real : ndarray\n",
       "    Real part of the array.\n",
       "size : int\n",
       "    Number of elements in the array.\n",
       "itemsize : int\n",
       "    The memory use of each array element in bytes.\n",
       "nbytes : int\n",
       "    The total number of bytes required to store the array data,\n",
       "    i.e., ``itemsize * size``.\n",
       "ndim : int\n",
       "    The array's number of dimensions.\n",
       "shape : tuple of ints\n",
       "    Shape of the array.\n",
       "strides : tuple of ints\n",
       "    The step-size required to move from one element to the next in\n",
       "    memory. For example, a contiguous ``(3, 4)`` array of type\n",
       "    ``int16`` in C-order has strides ``(8, 2)``.  This implies that\n",
       "    to move from element to element in memory requires jumps of 2 bytes.\n",
       "    To move from row-to-row, one needs to jump 8 bytes at a time\n",
       "    (``2 * 4``).\n",
       "ctypes : ctypes object\n",
       "    Class containing properties of the array needed for interaction\n",
       "    with ctypes.\n",
       "base : ndarray\n",
       "    If the array is a view into another array, that array is its `base`\n",
       "    (unless that array is also a view).  The `base` array is where the\n",
       "    array data is actually stored.\n",
       "\n",
       "See Also\n",
       "--------\n",
       "array : Construct an array.\n",
       "zeros : Create an array, each element of which is zero.\n",
       "empty : Create an array, but leave its allocated memory unchanged (i.e.,\n",
       "        it contains \"garbage\").\n",
       "dtype : Create a data-type.\n",
       "numpy.typing.NDArray : A :term:`generic <generic type>` version\n",
       "                       of ndarray.\n",
       "\n",
       "Notes\n",
       "-----\n",
       "There are two modes of creating an array using ``__new__``:\n",
       "\n",
       "1. If `buffer` is None, then only `shape`, `dtype`, and `order`\n",
       "   are used.\n",
       "2. If `buffer` is an object exposing the buffer interface, then\n",
       "   all keywords are interpreted.\n",
       "\n",
       "No ``__init__`` method is needed because the array is fully initialized\n",
       "after the ``__new__`` method.\n",
       "\n",
       "Examples\n",
       "--------\n",
       "These examples illustrate the low-level `ndarray` constructor.  Refer\n",
       "to the `See Also` section above for easier ways of constructing an\n",
       "ndarray.\n",
       "\n",
       "First mode, `buffer` is None:\n",
       "\n",
       ">>> np.ndarray(shape=(2,2), dtype=float, order='F')\n",
       "array([[0.0e+000, 0.0e+000], # random\n",
       "       [     nan, 2.5e-323]])\n",
       "\n",
       "Second mode:\n",
       "\n",
       ">>> np.ndarray((2,), buffer=np.array([1,2,3]),\n",
       "...            offset=np.int_().itemsize,\n",
       "...            dtype=int) # offset = 1*itemsize, i.e. skip first element\n",
       "array([2, 3])\n"
      ]
     },
     "metadata": {},
     "output_type": "display_data"
    }
   ],
   "source": [
    "# will be an ndarray of 4 lists (python objects)\n",
    "# shape: (4,) = ndarray of 4 objects (different data types)\n",
    "arr?\n",
    "arr.shape\n",
    "print(arr.dtype)"
   ]
  },
  {
   "cell_type": "markdown",
   "metadata": {},
   "source": [
    "2b. Change arr to a 10 row by 2 col array, and print it out"
   ]
  },
  {
   "cell_type": "code",
   "execution_count": null,
   "metadata": {},
   "outputs": [],
   "source": []
  },
  {
   "cell_type": "code",
   "execution_count": 15,
   "metadata": {},
   "outputs": [
    {
     "data": {
      "text/plain": [
       "(20,)"
      ]
     },
     "execution_count": 15,
     "metadata": {},
     "output_type": "execute_result"
    }
   ],
   "source": [
    "# first use np.hstack to stack the rows horizontally\n",
    "stacked_arr = np.hstack(arr)\n",
    "stacked_arr.shape"
   ]
  },
  {
   "cell_type": "code",
   "execution_count": 32,
   "metadata": {},
   "outputs": [
    {
     "data": {
      "text/plain": [
       "(10, 2)"
      ]
     },
     "execution_count": 32,
     "metadata": {},
     "output_type": "execute_result"
    }
   ],
   "source": [
    "# next, use np.reshape to reshape the array\n",
    "reshaped_arr = stacked_arr.reshape(10, 2)\n",
    "reshaped_arr.shape"
   ]
  },
  {
   "cell_type": "code",
   "execution_count": 17,
   "metadata": {},
   "outputs": [
    {
     "name": "stdout",
     "output_type": "stream",
     "text": [
      "1.0\t2.0\n",
      "3.0\t4.0\n",
      "5.0\t1.0\n",
      "3.0\t5.0\n",
      "7.0\t9.0\n",
      "10.0\t20.0\n",
      "30.5\t52.8\n",
      "12.0\t0.0\n",
      "1.0\t2.0\n",
      "3.0\t4.0\n"
     ]
    }
   ],
   "source": [
    "# print the array\n",
    "for row in reshaped_arr:\n",
    "    print(*row, sep='\\t')"
   ]
  },
  {
   "cell_type": "markdown",
   "metadata": {},
   "source": [
    "3. Given the following array. Print all values that are above 10"
   ]
  },
  {
   "cell_type": "code",
   "execution_count": 18,
   "metadata": {},
   "outputs": [],
   "source": [
    "arr = np.array([[3,9,10,2],[23,18,2,4],[7,4,22,5]])\n"
   ]
  },
  {
   "cell_type": "code",
   "execution_count": 19,
   "metadata": {},
   "outputs": [
    {
     "name": "stdout",
     "output_type": "stream",
     "text": [
      "23\n",
      "18\n",
      "22\n"
     ]
    }
   ],
   "source": [
    "# prints all values above 10\n",
    "# arr > 10 returns a boolean array\n",
    "# arr[arr > 10] returns the values of arr where arr > 10 is True\n",
    "# the * unpacks the array into a list of values\n",
    "print(*arr[arr > 10], sep='\\n')"
   ]
  },
  {
   "cell_type": "markdown",
   "metadata": {},
   "source": [
    "4a. For arr below, change all values in the 2nd and 3rd rows  to 0 and print the first 3 rows. Then print the array."
   ]
  },
  {
   "cell_type": "code",
   "execution_count": 46,
   "metadata": {},
   "outputs": [
    {
     "name": "stdout",
     "output_type": "stream",
     "text": [
      "[ 3  9 10]\n",
      "[ 2 27  0]\n",
      "[23 18  2]\n",
      "[7 4 5]\n",
      "3\t9\t10\n",
      "2\t27\t0\n",
      "23\t18\t2\n",
      "7\t4\t5\n"
     ]
    }
   ],
   "source": [
    "arr = np.array([[3,9,10],[2,27,0],[23,18,2],[7,4,5]])\n",
    "arr.shape\n",
    "print(*arr, sep='\\n')\n",
    "\n",
    "# alt\n",
    "for row in arr:\n",
    "    print(*row, sep='\\t')"
   ]
  },
  {
   "cell_type": "code",
   "execution_count": 47,
   "metadata": {},
   "outputs": [
    {
     "name": "stdout",
     "output_type": "stream",
     "text": [
      "[ 2 27  0]\n",
      "[23 18  2]\n"
     ]
    }
   ],
   "source": [
    "print(*arr[1:3], sep = '\\n')"
   ]
  },
  {
   "cell_type": "code",
   "execution_count": 22,
   "metadata": {},
   "outputs": [
    {
     "name": "stdout",
     "output_type": "stream",
     "text": [
      "change 2nd & 3rd rows to 0s\n",
      "[ 3  9 10]\n",
      "[0 0 0]\n",
      "[0 0 0]\n",
      "[7 4 5]\n",
      "print first 3 rows\n",
      "[ 3  9 10]\n",
      "[0 0 0]\n",
      "[0 0 0]\n"
     ]
    }
   ],
   "source": [
    "print(\"change 2nd & 3rd rows to 0s\")\n",
    "arr[1:3] = 0\n",
    "print(*arr, sep='\\n')\n",
    "print(\"print first 3 rows\")\n",
    "print(*arr[:3], sep='\\n')"
   ]
  },
  {
   "cell_type": "markdown",
   "metadata": {},
   "source": [
    "4b. Make a copy of arr and call it arr2. Increment every element in the last column of arr2 by 10. Print arr and arr2."
   ]
  },
  {
   "cell_type": "code",
   "execution_count": 48,
   "metadata": {},
   "outputs": [
    {
     "name": "stdout",
     "output_type": "stream",
     "text": [
      "arr\n",
      "[ 3  9 10]\n",
      "[ 2 27  0]\n",
      "[23 18  2]\n",
      "[7 4 5]\n",
      "arr2\n",
      "[ 3  9 20]\n",
      "[ 2 27 10]\n",
      "[23 18 12]\n",
      "[ 7  4 15]\n"
     ]
    }
   ],
   "source": [
    "# create a copy of arr\n",
    "arr2 = arr.copy()\n",
    "# increment every element in last col of arr2 by 10\n",
    "# syntax: arr2[:,2] means all rows, 3rd column\n",
    "arr2[:,-1] += 10\n",
    "print(\"arr\")\n",
    "print(*arr, sep='\\n')\n",
    "print(\"arr2\")\n",
    "print(*arr2, sep='\\n')\n",
    "\n"
   ]
  },
  {
   "cell_type": "markdown",
   "metadata": {},
   "source": [
    "4c. Write code to print whether the last column of arr and arr2 are equal"
   ]
  },
  {
   "cell_type": "code",
   "execution_count": 49,
   "metadata": {},
   "outputs": [
    {
     "name": "stdout",
     "output_type": "stream",
     "text": [
      "False\n"
     ]
    }
   ],
   "source": [
    "print(np.array_equal(arr[:,-1], arr2[:,-1]))"
   ]
  },
  {
   "cell_type": "markdown",
   "metadata": {},
   "source": [
    "5. What do these produce?"
   ]
  },
  {
   "cell_type": "code",
   "execution_count": 25,
   "metadata": {},
   "outputs": [
    {
     "name": "stdout",
     "output_type": "stream",
     "text": [
      "[0.3501786  0.55860883 0.76118406 0.36490679 0.26079641 0.98957647\n",
      " 0.63185655 0.32967149 0.92016602 0.57973457]\n",
      "[9 8 9 1 4 5 7 5 3 4 8 5 1 6 7]\n",
      "[-50. -40. -30. -20. -10.   0.  10.  20.  30.  40.]\n",
      "[1 3 5 7 9]\n"
     ]
    }
   ],
   "source": [
    "arr =  np.random.random(10)             # 1D array of 10 random floats            \n",
    "print(arr)\n",
    "\n",
    "# np.random.randint(low, high, size) returns an array of random ints in [low, high)\n",
    "arr = np.random.randint(1, 10, size=15) # 1D array of 15 random ints in [1,10)  \n",
    "print(arr)                              \n",
    "\n",
    "# np.linspace(low, high, num) returns an array of num floats in [low, high]\n",
    "arr = np.linspace(-50,40,10)            # 1D array of 10 floats in [-50,40]  \n",
    "print(arr)\n",
    "\n",
    "# np.arange(low, high, step) returns an array of ints in [low, high) with step\n",
    "arr = np.arange(1,10,2)                 # 1D array of ints in [1,10) with step 2  \n",
    "print(arr)"
   ]
  },
  {
   "cell_type": "code",
   "execution_count": null,
   "metadata": {},
   "outputs": [],
   "source": []
  },
  {
   "cell_type": "markdown",
   "metadata": {},
   "source": [
    "6. Create an array of 10 random integers between 100 and 500, and calculate their mean and standard deviation.  Are the values close together or far apart?"
   ]
  },
  {
   "cell_type": "code",
   "execution_count": 51,
   "metadata": {},
   "outputs": [
    {
     "name": "stdout",
     "output_type": "stream",
     "text": [
      "282.2\n",
      "102.87643073124184\n"
     ]
    }
   ],
   "source": [
    "# np.random.randint(low, high, size) returns an array of random ints in [low, high)\n",
    "# arr or 10 random ints in [100, 500]\n",
    "rand_arr = np.random.randint(100, 501, size=10)\n",
    "\n",
    "print(np.mean(rand_arr))\n",
    "print(np.std(rand_arr))"
   ]
  },
  {
   "cell_type": "markdown",
   "metadata": {},
   "source": [
    "7. Sort the array below, and then show the indices that would sort the array"
   ]
  },
  {
   "cell_type": "code",
   "execution_count": 54,
   "metadata": {},
   "outputs": [
    {
     "name": "stdout",
     "output_type": "stream",
     "text": [
      "unsorted array\n",
      "[[ 5  2  1 14  5]\n",
      " [ 7 32 19  4  5]\n",
      " [10 20  3  5 12]]\n",
      "sorted array, w axis = 0\n",
      "[[ 5  2  1  4  5]\n",
      " [ 7 20  3  5  5]\n",
      " [10 32 19 14 12]]\n",
      "sorted array, w axis = 1\n",
      "[[ 1  2  5  5 14]\n",
      " [ 4  5  7 19 32]\n",
      " [ 3  5 10 12 20]]\n",
      "argsort\n",
      "[[2 1 0 4 3]\n",
      " [3 4 0 2 1]\n",
      " [2 3 0 4 1]]\n"
     ]
    }
   ],
   "source": [
    "arr = np.array([[5,2,1,14,5], [7,32,19,4,5], [10,20,3,5,12]])\n",
    "\n",
    "# sort the array, then show indeces that would sort the array\n",
    "print(\"unsorted array\")\n",
    "print(arr)\n",
    "\n",
    "# sort the array\n",
    "print(\"sorted array, w axis = 0\")\n",
    "sorted_arr = np.sort(arr, axis=0)\n",
    "print(sorted_arr)\n",
    "\n",
    "print(\"sorted array, w axis = 1\")\n",
    "sorted_arr = np.sort(arr, axis=1)\n",
    "print(sorted_arr)\n",
    "\n",
    "# argsort returns the indeces that would sort the array\n",
    "print(\"argsort\")\n",
    "print(np.argsort(arr))"
   ]
  },
  {
   "cell_type": "code",
   "execution_count": 59,
   "metadata": {},
   "outputs": [
    {
     "data": {
      "text/plain": [
       "array([2, 1, 3, 0])"
      ]
     },
     "execution_count": 59,
     "metadata": {},
     "output_type": "execute_result"
    }
   ],
   "source": [
    "arr1 = np.array([9, 3, 2, 5])\n",
    "arr2 = np.array([1, 2, 3, 4])\n",
    "\n",
    "ind = np.argsort(arr)\n",
    "ind"
   ]
  },
  {
   "cell_type": "code",
   "execution_count": 60,
   "metadata": {},
   "outputs": [
    {
     "name": "stdout",
     "output_type": "stream",
     "text": [
      "[2 3 5 9]\n",
      "[3 2 4 1]\n"
     ]
    }
   ],
   "source": [
    "print(arr1[ind])\n",
    "print(arr2[ind])"
   ]
  },
  {
   "cell_type": "code",
   "execution_count": null,
   "metadata": {},
   "outputs": [],
   "source": []
  }
 ],
 "metadata": {
  "kernelspec": {
   "display_name": "Python 3 (ipykernel)",
   "language": "python",
   "name": "python3"
  },
  "language_info": {
   "codemirror_mode": {
    "name": "ipython",
    "version": 3
   },
   "file_extension": ".py",
   "mimetype": "text/x-python",
   "name": "python",
   "nbconvert_exporter": "python",
   "pygments_lexer": "ipython3",
   "version": "3.9.12"
  }
 },
 "nbformat": 4,
 "nbformat_minor": 4
}
