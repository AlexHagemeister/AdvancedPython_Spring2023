{
 "cells": [
  {
   "cell_type": "markdown",
   "metadata": {},
   "source": [
    "Module 2: GUI "
   ]
  },
  {
   "cell_type": "code",
   "execution_count": 1,
   "metadata": {},
   "outputs": [],
   "source": [
    "import tkinter as tk"
   ]
  },
  {
   "cell_type": "markdown",
   "metadata": {},
   "source": [
    "1. Create a simple window that's 200 (width) x 100 (height), with a title \"GUI exercise\""
   ]
  },
  {
   "cell_type": "code",
   "execution_count": 2,
   "metadata": {},
   "outputs": [
    {
     "data": {
      "text/plain": [
       "''"
      ]
     },
     "execution_count": 2,
     "metadata": {},
     "output_type": "execute_result"
    }
   ],
   "source": [
    "win = tk.Tk()\n",
    "#win.geometry(\"200x100\")\n",
    "win.title(\"GUI exercise\")\n",
    "#win.mainloop()        # uncomment this line if this is the only cell you run"
   ]
  },
  {
   "cell_type": "markdown",
   "metadata": {},
   "source": [
    "2. Create 2 tkinter text string, name them entryText and choiceText. Set choiceText to \"Name\", leave entryText uninitialized."
   ]
  },
  {
   "cell_type": "code",
   "execution_count": 3,
   "metadata": {},
   "outputs": [],
   "source": [
    "entryText = tk.StringVar()\n",
    "choiceText = tk.StringVar()\n",
    "choiceText.set(\"Name\")"
   ]
  },
  {
   "cell_type": "markdown",
   "metadata": {},
   "source": [
    "3. Create a label to prompt the user with the string in choiceText, read in the user input in entryText, and print the user input to the console output (normal text output) in the format:  \n",
    "Got it. Your choiceText is entryText"
   ]
  },
  {
   "cell_type": "code",
   "execution_count": 4,
   "metadata": {},
   "outputs": [],
   "source": [
    "## EC\n",
    "\n",
    "# Function to print user choice\n",
    "def print_choice(event):\n",
    "    s = f\"Got it. Your {choiceText.get()} is {entryText.get()}\"\n",
    "    outText.set(s)\n",
    "    \n",
    "outText = tk.StringVar()    \n",
    "\n",
    "F = tk.Frame(win)\n",
    "F.grid()\n",
    "\n",
    "# Label to display user choice\n",
    "L = tk.Label(F,textvariable=choiceText)\n",
    "L.grid(padx=20)\n",
    "\n",
    "# Entry object to get user input\n",
    "E = tk.Entry(F,textvariable=entryText)\n",
    "E.grid(row=0, column=1, padx=20)\n",
    "E.bind(\"<Return>\", print_choice)\n",
    "\n",
    "L2 = tk.Label(win, textvariable=outText)\n",
    "L2.grid(padx=20)\n",
    "\n",
    "#win.mainloop()"
   ]
  },
  {
   "cell_type": "markdown",
   "metadata": {},
   "source": [
    "4. Add 2 radio buttons: Name, Major. Configure the buttons such that when the user clicks on a button, the label shows the correct prompt (Name or Major), and the Entry object is cleared. After the user enters their input, the user choice is printed as before."
   ]
  },
  {
   "cell_type": "raw",
   "metadata": {},
   "source": [
    "## Version 1: on own"
   ]
  },
  {
   "cell_type": "raw",
   "metadata": {
    "tags": []
   },
   "source": [
    "\n",
    "# Function to update choiceText and clear the Entry object\n",
    "def update_choice(choice):\n",
    "    # set choiceText to the new choice\n",
    "    choiceText.set(choice)\n",
    "    # clear the Entry object\n",
    "    entryText.set(\"\")\n",
    "\n",
    "# Radio buttons to choose between Name and Major\n",
    "name_button = tk.Radiobutton(win, text=\"Name\", variable=choiceText, value=\"Name\", command=lambda: update_choice(\"Name\"))\n",
    "# button is a widget, so we can use grid() to place it\n",
    "name_button.grid(row=1, column=0)\n",
    "\n",
    "# create a second radio button for Major and place it in the same row as the first one but in the second column\n",
    "major_button = tk.Radiobutton(win, text=\"Major\", variable=choiceText, value=\"Major\", command=lambda: update_choice(\"Major\"))\n",
    "major_button.grid(row=1, column=1)\n",
    "\n",
    "# StringVar to store and display output\n",
    "output_text = tk.StringVar()\n",
    "# set the initial value to an empty string\n",
    "output_text.set(\"\")\n",
    "# create a Label to display the output text\n",
    "output_label = tk.Label(win, textvariable=output_text)\n",
    "# place the Label in the third row, spanning both columns\n",
    "output_label.grid(row=2, column=0, columnspan=2)"
   ]
  },
  {
   "cell_type": "raw",
   "metadata": {},
   "source": [
    "## Version 2: In Class"
   ]
  },
  {
   "cell_type": "code",
   "execution_count": 5,
   "metadata": {},
   "outputs": [],
   "source": [
    "def changfct():\n",
    "    choiceText.set(controlVar.get())\n",
    "    E.delete(0, tk.END)\n",
    "\n",
    "controlVar = tk.StringVar()\n",
    "rb1 = tk.Radiobutton(win, text=\"Name\", variable=controlVar, value=\"Name\", command=changfct)\n",
    "rb2 = tk.Radiobutton(win, text=\"Major\", variable=controlVar, value=\"Major\", command=changfct)\n",
    "\n",
    "rb1.grid()\n",
    "rb2.grid()\n",
    "\n",
    "controlVar.set(\"Name\")\n",
    "\n",
    "#win.mainloop()"
   ]
  },
  {
   "cell_type": "markdown",
   "metadata": {},
   "source": [
    "5. Add a button called x^2 such that when clicked, will produce a new window with the plot of f(x)=x^2 for -5 <= x <= 5"
   ]
  },
  {
   "cell_type": "raw",
   "metadata": {},
   "source": [
    "Version 1: my version"
   ]
  },
  {
   "cell_type": "raw",
   "metadata": {
    "jupyter": {
     "source_hidden": true
    },
    "tags": []
   },
   "source": [
    "# for plotting, we need to import the figure and the canvas\n",
    "from matplotlib.figure import Figure\n",
    "from matplotlib.backends.backend_tkagg import FigureCanvasTkAgg\n",
    "\n",
    "# Function to create the plot window\n",
    "def create_plot_window():\n",
    "    # Create the figure and subplot\n",
    "    fig = Figure(figsize=(5, 4), dpi=100)\n",
    "    # add_subplot(111) means 1 row, 1 column, plot number 1\n",
    "    ax = fig.add_subplot(111)\n",
    "\n",
    "    # Generate the x and y data for the plot\n",
    "    x = range(-5, 6)\n",
    "    # list comprehension to generate the y data\n",
    "    y = [xi**2 for xi in x]\n",
    "\n",
    "    # Plot the data\n",
    "    ax.plot(x, y)\n",
    "    ax.set_title(\"f(x) = x^2\")\n",
    "\n",
    "    # Create the canvas and add it to the plot window\n",
    "    canvas = FigureCanvasTkAgg(fig, master=win)\n",
    "    # need to call draw() to display the plot in the canvas\n",
    "    canvas.draw()\n",
    "    # use grid() to place the canvas in the fourth row, spanning both columns\n",
    "    canvas.get_tk_widget().grid(row=4, column=0, columnspan=2)\n",
    "\n",
    "\n",
    "# Button to produce plot window when clicked \n",
    "plot_button = tk.Button(win, text=\"x^2\", command=create_plot_window)\n",
    "plot_button.grid(row=2, column=0)\n",
    "\n",
    "# win.mainloop()\n"
   ]
  },
  {
   "cell_type": "raw",
   "metadata": {},
   "source": [
    "Version 2: in class"
   ]
  },
  {
   "cell_type": "code",
   "execution_count": 6,
   "metadata": {},
   "outputs": [],
   "source": [
    "import matplotlib\n",
    "matplotlib.use('TkAgg') # tell matplotlib to work with Tkinter\n",
    "#import tkinter as tk    # normal import of tkinter for GUI\n",
    "import numpy as np\n",
    "from matplotlib.backends.backend_tkagg import FigureCanvasTkAgg # Canvas widget\n",
    "import matplotlib.pyplot as plt # normal import of pyplot to plot\n",
    "\n",
    "def plotfct():\n",
    "    # create window\n",
    "    w = tk.Toplevel()\n",
    "    # create a matplotlib figure. w, h are the width and height of the plot size\n",
    "    fig = plt.figure(figsize=(4, 5)) \n",
    "    x = np.linspace(-5, 5, 100)\n",
    "    plt.plot(x, x**2)\n",
    "    # plt.show() don't use this\n",
    "    # functions to set up the plot go here, such as plt.title, plt.plot… but NOT plt.show\n",
    "    canvas = FigureCanvasTkAgg(fig, master=w) # create Canvas widget\n",
    "    canvas.get_tk_widget().grid() # position the canvas in the window\n",
    "    # since we remove the plt.show above, this is used show the plot\n",
    "    canvas.draw() \n",
    "    \n",
    "    \n",
    "B = tk.Button(win, text=\"x^2\", command=plotfct)\n",
    "B.grid()\n",
    "\n",
    "# win.mainloop()"
   ]
  },
  {
   "cell_type": "markdown",
   "metadata": {},
   "source": [
    "6. Override the event X to close window by printing a message box to confirm with the user, and end the GUI only if the user chooses OK."
   ]
  },
  {
   "cell_type": "raw",
   "metadata": {},
   "source": [
    "Version #1: mine"
   ]
  },
  {
   "cell_type": "raw",
   "metadata": {},
   "source": [
    "# messagebox is a submodule of tkinter that contains functions for displaying popup message boxes\n",
    "import tkinter.messagebox as tkmb\n",
    "\n",
    "# v1 no worky\n",
    "# tkmb.askoktocancel(\"title\", \"notification string\", parent=master)\n",
    "# win.mainloop()\n",
    "\n",
    "# v2 works: define a function to confirm exit and bind it to the window's protocol\n",
    "def confirm_exit():\n",
    "    # askokcancel() returns True if the user clicks OK, False otherwise\n",
    "    if tkmb.askokcancel(\"Confirm Exit\", \"Are you sure you want to exit?\"):\n",
    "        win.destroy()\n",
    "\n",
    "# bind the function to the window's protocol\n",
    "win.protocol(\"WM_DELETE_WINDOW\", confirm_exit)\n",
    "\n",
    "win.mainloop()"
   ]
  },
  {
   "cell_type": "raw",
   "metadata": {},
   "source": [
    "Version 2: in class"
   ]
  },
  {
   "cell_type": "code",
   "execution_count": 7,
   "metadata": {},
   "outputs": [],
   "source": [
    "import tkinter.messagebox as tkmb\n",
    "\n",
    "def closefct():\n",
    "    if tkmb.askokcancel(\"Confirm close\", \"Are you sure you want to close?\", parent=win):\n",
    "        win.destroy()\n",
    "        win.quit()\n",
    "\n",
    "\n",
    "win.protocol(\"WM_DELETE_WINDOW\", closefct)\n",
    "\n",
    "win.mainloop()\n"
   ]
  },
  {
   "cell_type": "code",
   "execution_count": null,
   "metadata": {},
   "outputs": [],
   "source": []
  }
 ],
 "metadata": {
  "kernelspec": {
   "display_name": "Python 3 (ipykernel)",
   "language": "python",
   "name": "python3"
  },
  "language_info": {
   "codemirror_mode": {
    "name": "ipython",
    "version": 3
   },
   "file_extension": ".py",
   "mimetype": "text/x-python",
   "name": "python",
   "nbconvert_exporter": "python",
   "pygments_lexer": "ipython3",
   "version": "3.9.12"
  }
 },
 "nbformat": 4,
 "nbformat_minor": 4
}
