{
 "cells": [
  {
   "cell_type": "markdown",
   "metadata": {},
   "source": [
    "Module 2 - numpy"
   ]
  },
  {
   "cell_type": "markdown",
   "metadata": {},
   "source": [
    "1a. Create a csv file from the list below"
   ]
  },
  {
   "cell_type": "code",
   "execution_count": 1,
   "metadata": {},
   "outputs": [],
   "source": [
    "table = [ \"123 lucy psychology 3.25\".split(), \"345 linus undeclared 2.89\".split(), \"567 schroeder music 3.93\".split() ] "
   ]
  },
  {
   "cell_type": "code",
   "execution_count": 2,
   "metadata": {},
   "outputs": [],
   "source": [
    "import csv \n",
    "with open(\"ex2.csv\", 'w', newline = '') as f:\n",
    "    writer = csv.writer(f)\n",
    "    for row in table:\n",
    "        writer.writerow(row)"
   ]
  },
  {
   "cell_type": "code",
   "execution_count": null,
   "metadata": {},
   "outputs": [],
   "source": []
  },
  {
   "cell_type": "markdown",
   "metadata": {},
   "source": [
    "1b. Print data from the CSV file to show that it was created successfully"
   ]
  },
  {
   "cell_type": "code",
   "execution_count": 3,
   "metadata": {},
   "outputs": [
    {
     "name": "stdout",
     "output_type": "stream",
     "text": [
      "['123', 'lucy', 'psychology', '3.25']\n",
      "['345', 'linus', 'undeclared', '2.89']\n",
      "['567', 'schroeder', 'music', '3.93']\n"
     ]
    }
   ],
   "source": [
    "with open(\"ex2.csv\", 'r', newline = '') as f:\n",
    "    reader = csv.reader(f)\n",
    "    for alist in reader:\n",
    "        print(alist)\n"
   ]
  },
  {
   "cell_type": "code",
   "execution_count": 4,
   "metadata": {},
   "outputs": [
    {
     "name": "stdout",
     "output_type": "stream",
     "text": [
      "123,lucy,psychology,3.25\n",
      "345,linus,undeclared,2.89\n",
      "567,schroeder,music,3.93\n"
     ]
    }
   ],
   "source": [
    "with open(\"ex2.csv\", 'r', newline = '') as f:\n",
    "    for line in f:\n",
    "        print(line.rstrip())"
   ]
  },
  {
   "cell_type": "code",
   "execution_count": 5,
   "metadata": {},
   "outputs": [
    {
     "name": "stdout",
     "output_type": "stream",
     "text": [
      "123,lucy,psychology,3.25\n",
      "\n"
     ]
    }
   ],
   "source": [
    "# its a generator!\n",
    "with open(\"ex2.csv\") as f:\n",
    "    print(next(f))"
   ]
  },
  {
   "cell_type": "code",
   "execution_count": 6,
   "metadata": {},
   "outputs": [
    {
     "data": {
      "text/plain": [
       "array([['123', 'lucy', 'psychology', '3.25'],\n",
       "       ['345', 'linus', 'undeclared', '2.89'],\n",
       "       ['567', 'schroeder', 'music', '3.93']], dtype='<U10')"
      ]
     },
     "execution_count": 6,
     "metadata": {},
     "output_type": "execute_result"
    }
   ],
   "source": [
    "import numpy as np\n",
    "arr = np.loadtxt(\"ex2.csv\", delimiter = ',', dtype=str)\n",
    "arr"
   ]
  },
  {
   "cell_type": "markdown",
   "metadata": {},
   "source": [
    "2a. Given the following code, predict and then show the data type and shape of the array"
   ]
  },
  {
   "cell_type": "code",
   "execution_count": 7,
   "metadata": {},
   "outputs": [],
   "source": [
    "import numpy as np\n",
    "\n",
    "L = [1,3,5,7,9]\n",
    "arr = np.array(([1,2,3,4,5], L, [10,20,30.5,52.8,12], list(range(5))))\n"
   ]
  },
  {
   "cell_type": "code",
   "execution_count": 8,
   "metadata": {},
   "outputs": [
    {
     "name": "stdout",
     "output_type": "stream",
     "text": [
      "float64\n"
     ]
    }
   ],
   "source": [
    "# will be an ndarray of 4 lists (python objects)\n",
    "# shape: (4,) = ndarray of 4 objects (different data types)\n",
    "\n",
    "arr.shape\n",
    "print(arr.dtype)"
   ]
  },
  {
   "cell_type": "markdown",
   "metadata": {},
   "source": [
    "2b. Change arr to a 10 row by 2 col array, and print it out"
   ]
  },
  {
   "cell_type": "code",
   "execution_count": null,
   "metadata": {},
   "outputs": [],
   "source": []
  },
  {
   "cell_type": "code",
   "execution_count": 9,
   "metadata": {},
   "outputs": [
    {
     "data": {
      "text/plain": [
       "(20,)"
      ]
     },
     "execution_count": 9,
     "metadata": {},
     "output_type": "execute_result"
    }
   ],
   "source": [
    "# first use np.hstack to stack the rows horizontally\n",
    "stacked_arr = np.hstack(arr)\n",
    "stacked_arr.shape"
   ]
  },
  {
   "cell_type": "code",
   "execution_count": 10,
   "metadata": {},
   "outputs": [
    {
     "data": {
      "text/plain": [
       "(10, 2)"
      ]
     },
     "execution_count": 10,
     "metadata": {},
     "output_type": "execute_result"
    }
   ],
   "source": [
    "# next, use np.reshape to reshape the array\n",
    "reshaped_arr = stacked_arr.reshape(10, 2)\n",
    "reshaped_arr.shape"
   ]
  },
  {
   "cell_type": "code",
   "execution_count": 11,
   "metadata": {},
   "outputs": [
    {
     "name": "stdout",
     "output_type": "stream",
     "text": [
      "1.0\t2.0\n",
      "3.0\t4.0\n",
      "5.0\t1.0\n",
      "3.0\t5.0\n",
      "7.0\t9.0\n",
      "10.0\t20.0\n",
      "30.5\t52.8\n",
      "12.0\t0.0\n",
      "1.0\t2.0\n",
      "3.0\t4.0\n"
     ]
    }
   ],
   "source": [
    "# print the array\n",
    "for row in reshaped_arr:\n",
    "    print(*row, sep='\\t')"
   ]
  },
  {
   "cell_type": "markdown",
   "metadata": {},
   "source": [
    "3. Given the following array. Print all values that are above 10"
   ]
  },
  {
   "cell_type": "code",
   "execution_count": 12,
   "metadata": {},
   "outputs": [],
   "source": [
    "arr = np.array([[3,9,10,2],[23,18,2,4],[7,4,22,5]])\n"
   ]
  },
  {
   "cell_type": "code",
   "execution_count": 13,
   "metadata": {},
   "outputs": [
    {
     "name": "stdout",
     "output_type": "stream",
     "text": [
      "23\n",
      "18\n",
      "22\n"
     ]
    }
   ],
   "source": [
    "# prints all values above 10\n",
    "# arr > 10 returns a boolean array\n",
    "# arr[arr > 10] returns the values of arr where arr > 10 is True\n",
    "# the * unpacks the array into a list of values\n",
    "print(*arr[arr > 10], sep='\\n')"
   ]
  },
  {
   "cell_type": "markdown",
   "metadata": {},
   "source": [
    "4a. For arr below, change all values in the 2nd and 3rd rows  to 0 and print the first 3 rows. Then print the array."
   ]
  },
  {
   "cell_type": "code",
   "execution_count": 14,
   "metadata": {},
   "outputs": [
    {
     "name": "stdout",
     "output_type": "stream",
     "text": [
      "[ 3  9 10]\n",
      "[ 2 27  0]\n",
      "[23 18  2]\n",
      "[7 4 5]\n",
      "3\t9\t10\n",
      "2\t27\t0\n",
      "23\t18\t2\n",
      "7\t4\t5\n"
     ]
    }
   ],
   "source": [
    "arr = np.array([[3,9,10],[2,27,0],[23,18,2],[7,4,5]])\n",
    "arr.shape\n",
    "print(*arr, sep='\\n')\n",
    "\n",
    "# alt\n",
    "for row in arr:\n",
    "    print(*row, sep='\\t')"
   ]
  },
  {
   "cell_type": "code",
   "execution_count": 15,
   "metadata": {},
   "outputs": [
    {
     "name": "stdout",
     "output_type": "stream",
     "text": [
      "[ 2 27  0]\n",
      "[23 18  2]\n"
     ]
    }
   ],
   "source": [
    "print(*arr[1:3], sep = '\\n')"
   ]
  },
  {
   "cell_type": "code",
   "execution_count": 16,
   "metadata": {},
   "outputs": [
    {
     "name": "stdout",
     "output_type": "stream",
     "text": [
      "change 2nd & 3rd rows to 0s\n",
      "[ 3  9 10]\n",
      "[0 0 0]\n",
      "[0 0 0]\n",
      "[7 4 5]\n",
      "print first 3 rows\n",
      "[ 3  9 10]\n",
      "[0 0 0]\n",
      "[0 0 0]\n"
     ]
    }
   ],
   "source": [
    "print(\"change 2nd & 3rd rows to 0s\")\n",
    "arr[1:3] = 0\n",
    "print(*arr, sep='\\n')\n",
    "print(\"print first 3 rows\")\n",
    "print(*arr[:3], sep='\\n')"
   ]
  },
  {
   "cell_type": "markdown",
   "metadata": {},
   "source": [
    "4b. Make a copy of arr and call it arr2. Increment every element in the last column of arr2 by 10. Print arr and arr2."
   ]
  },
  {
   "cell_type": "code",
   "execution_count": 17,
   "metadata": {},
   "outputs": [
    {
     "name": "stdout",
     "output_type": "stream",
     "text": [
      "arr\n",
      "[ 3  9 10]\n",
      "[0 0 0]\n",
      "[0 0 0]\n",
      "[7 4 5]\n",
      "arr2\n",
      "[ 3  9 20]\n",
      "[ 0  0 10]\n",
      "[ 0  0 10]\n",
      "[ 7  4 15]\n"
     ]
    }
   ],
   "source": [
    "# create a copy of arr\n",
    "arr2 = arr.copy()\n",
    "# increment every element in last col of arr2 by 10\n",
    "# syntax: arr2[:,2] means all rows, 3rd column\n",
    "arr2[:,-1] += 10\n",
    "print(\"arr\")\n",
    "print(*arr, sep='\\n')\n",
    "print(\"arr2\")\n",
    "print(*arr2, sep='\\n')\n",
    "\n"
   ]
  },
  {
   "cell_type": "markdown",
   "metadata": {},
   "source": [
    "4c. Write code to print whether the last column of arr and arr2 are equal"
   ]
  },
  {
   "cell_type": "code",
   "execution_count": 18,
   "metadata": {},
   "outputs": [
    {
     "name": "stdout",
     "output_type": "stream",
     "text": [
      "False\n"
     ]
    }
   ],
   "source": [
    "print(np.array_equal(arr[:,-1], arr2[:,-1]))"
   ]
  },
  {
   "cell_type": "markdown",
   "metadata": {},
   "source": [
    "5. What do these produce?"
   ]
  },
  {
   "cell_type": "code",
   "execution_count": 19,
   "metadata": {},
   "outputs": [
    {
     "name": "stdout",
     "output_type": "stream",
     "text": [
      "[0.3977027  0.96814758 0.92778557 0.81954305 0.04514485 0.80485512\n",
      " 0.1422948  0.82585492 0.23772368 0.82867671]\n",
      "[3 8 7 7 8 7 2 7 4 2 6 7 2 1 7]\n",
      "[-50. -40. -30. -20. -10.   0.  10.  20.  30.  40.]\n",
      "[1 3 5 7 9]\n"
     ]
    }
   ],
   "source": [
    "arr =  np.random.random(10)             # 1D array of 10 random floats            \n",
    "print(arr)\n",
    "\n",
    "# np.random.randint(low, high, size) returns an array of random ints in [low, high)\n",
    "arr = np.random.randint(1, 10, size=15) # 1D array of 15 random ints in [1,10)  \n",
    "print(arr)                              \n",
    "\n",
    "# np.linspace(low, high, num) returns an array of num floats in [low, high]\n",
    "arr = np.linspace(-50,40,10)            # 1D array of 10 floats in [-50,40]  \n",
    "print(arr)\n",
    "\n",
    "# np.arange(low, high, step) returns an array of ints in [low, high) with step\n",
    "arr = np.arange(1,10,2)                 # 1D array of ints in [1,10) with step 2  \n",
    "print(arr)"
   ]
  },
  {
   "cell_type": "code",
   "execution_count": null,
   "metadata": {},
   "outputs": [],
   "source": []
  },
  {
   "cell_type": "markdown",
   "metadata": {},
   "source": [
    "6. Create an array of 10 random integers between 100 and 500, and calculate their mean and standard deviation.  Are the values close together or far apart?"
   ]
  },
  {
   "cell_type": "code",
   "execution_count": 20,
   "metadata": {},
   "outputs": [
    {
     "name": "stdout",
     "output_type": "stream",
     "text": [
      "296.6\n",
      "126.07077377409881\n"
     ]
    }
   ],
   "source": [
    "# np.random.randint(low, high, size) returns an array of random ints in [low, high)\n",
    "# arr or 10 random ints in [100, 500]\n",
    "rand_arr = np.random.randint(100, 501, size=10)\n",
    "\n",
    "print(np.mean(rand_arr))\n",
    "print(np.std(rand_arr))"
   ]
  },
  {
   "cell_type": "markdown",
   "metadata": {},
   "source": [
    "7. Sort the array below, and then show the indices that would sort the array"
   ]
  },
  {
   "cell_type": "code",
   "execution_count": 21,
   "metadata": {},
   "outputs": [
    {
     "name": "stdout",
     "output_type": "stream",
     "text": [
      "unsorted array\n",
      "[[ 5  2  1 14  5]\n",
      " [ 7 32 19  4  5]\n",
      " [10 20  3  5 12]]\n",
      "sorted array, w axis = 0\n",
      "[[ 5  2  1  4  5]\n",
      " [ 7 20  3  5  5]\n",
      " [10 32 19 14 12]]\n",
      "sorted array, w axis = 1\n",
      "[[ 1  2  5  5 14]\n",
      " [ 4  5  7 19 32]\n",
      " [ 3  5 10 12 20]]\n",
      "argsort\n",
      "[[2 1 0 4 3]\n",
      " [3 4 0 2 1]\n",
      " [2 3 0 4 1]]\n"
     ]
    }
   ],
   "source": [
    "arr = np.array([[5,2,1,14,5], [7,32,19,4,5], [10,20,3,5,12]])\n",
    "\n",
    "# sort the array, then show indeces that would sort the array\n",
    "print(\"unsorted array\")\n",
    "print(arr)\n",
    "\n",
    "# sort the array\n",
    "print(\"sorted array, w axis = 0\")\n",
    "sorted_arr = np.sort(arr, axis=0)\n",
    "print(sorted_arr)\n",
    "\n",
    "print(\"sorted array, w axis = 1\")\n",
    "sorted_arr = np.sort(arr, axis=1)\n",
    "print(sorted_arr)\n",
    "\n",
    "# argsort returns the indeces that would sort the array\n",
    "print(\"argsort\")\n",
    "print(np.argsort(arr))"
   ]
  },
  {
   "cell_type": "code",
   "execution_count": 22,
   "metadata": {},
   "outputs": [
    {
     "data": {
      "text/plain": [
       "array([[2, 1, 0, 4, 3],\n",
       "       [3, 4, 0, 2, 1],\n",
       "       [2, 3, 0, 4, 1]])"
      ]
     },
     "execution_count": 22,
     "metadata": {},
     "output_type": "execute_result"
    }
   ],
   "source": [
    "arr1 = np.array([9, 3, 2, 5])\n",
    "arr2 = np.array([1, 2, 3, 4])\n",
    "\n",
    "ind = np.argsort(arr)\n",
    "ind"
   ]
  },
  {
   "cell_type": "code",
   "execution_count": 23,
   "metadata": {},
   "outputs": [
    {
     "ename": "IndexError",
     "evalue": "index 4 is out of bounds for axis 0 with size 4",
     "output_type": "error",
     "traceback": [
      "\u001b[0;31m---------------------------------------------------------------------------\u001b[0m",
      "\u001b[0;31mIndexError\u001b[0m                                Traceback (most recent call last)",
      "\u001b[0;32m/var/folders/ym/50f9gfp105v6t4xqyx661zb80000gn/T/ipykernel_40400/2437263462.py\u001b[0m in \u001b[0;36m<module>\u001b[0;34m\u001b[0m\n\u001b[0;32m----> 1\u001b[0;31m \u001b[0mprint\u001b[0m\u001b[0;34m(\u001b[0m\u001b[0marr1\u001b[0m\u001b[0;34m[\u001b[0m\u001b[0mind\u001b[0m\u001b[0;34m]\u001b[0m\u001b[0;34m)\u001b[0m\u001b[0;34m\u001b[0m\u001b[0;34m\u001b[0m\u001b[0m\n\u001b[0m\u001b[1;32m      2\u001b[0m \u001b[0mprint\u001b[0m\u001b[0;34m(\u001b[0m\u001b[0marr2\u001b[0m\u001b[0;34m[\u001b[0m\u001b[0mind\u001b[0m\u001b[0;34m]\u001b[0m\u001b[0;34m)\u001b[0m\u001b[0;34m\u001b[0m\u001b[0;34m\u001b[0m\u001b[0m\n",
      "\u001b[0;31mIndexError\u001b[0m: index 4 is out of bounds for axis 0 with size 4"
     ]
    }
   ],
   "source": [
    "print(arr1[ind])\n",
    "print(arr2[ind])"
   ]
  },
  {
   "cell_type": "code",
   "execution_count": null,
   "metadata": {},
   "outputs": [],
   "source": []
  }
 ],
 "metadata": {
  "kernelspec": {
   "display_name": "Python 3 (ipykernel)",
   "language": "python",
   "name": "python3"
  },
  "language_info": {
   "codemirror_mode": {
    "name": "ipython",
    "version": 3
   },
   "file_extension": ".py",
   "mimetype": "text/x-python",
   "name": "python",
   "nbconvert_exporter": "python",
   "pygments_lexer": "ipython3",
   "version": "3.9.12"
  }
 },
 "nbformat": 4,
 "nbformat_minor": 4
}
