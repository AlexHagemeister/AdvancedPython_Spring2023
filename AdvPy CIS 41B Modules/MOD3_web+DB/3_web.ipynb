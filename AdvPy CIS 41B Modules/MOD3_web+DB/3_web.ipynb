{
 "cells": [
  {
   "cell_type": "markdown",
   "metadata": {},
   "source": [
    "Module 3: web access"
   ]
  },
  {
   "cell_type": "code",
   "execution_count": null,
   "metadata": {},
   "outputs": [],
   "source": [
    "# importing modules\n",
    "import urllib.request as ur\n",
    "import requests\n",
    "from bs4 import BeautifulSoup \n",
    "import re\n",
    "import time"
   ]
  },
  {
   "cell_type": "markdown",
   "metadata": {},
   "source": [
    "1. Example of using urllib to access web page"
   ]
  },
  {
   "cell_type": "code",
   "execution_count": null,
   "metadata": {},
   "outputs": [],
   "source": [
    "page = ur.urlopen('https://www.google.com/')\n",
    "print(type(page))          # url Response object\n",
    "print(type(page.read()))   # read entire page as string of bytes or ascii characters \n",
    "print(\"\\nHeader content:\")\n",
    "print(page.getheader('Content-Type'))   # type of data:  text/html; charset=ISO8859-1\n",
    "print(\"\\nDictionary of header:\")\n",
    "for key,value in page.getheaders() :    # see all headers\n",
    "    print(key + \":\", value)\n",
    "print(\"\\nAnother way to get header info:\")\n",
    "print(page.info())          # see all headers"
   ]
  },
  {
   "cell_type": "markdown",
   "metadata": {},
   "source": [
    "2. Example of using requests to access web page"
   ]
  },
  {
   "cell_type": "code",
   "execution_count": null,
   "metadata": {},
   "outputs": [],
   "source": [
    "page = requests.get('https://python.org/')\n",
    "print(page.status_code)          # status code = 200 means success\n",
    "print(type(page))\n",
    "text = page.text                     # get text from the Response object\n",
    "print(type(text))\n",
    "content = page.content\n",
    "print(type(content))\n",
    "print(page.headers['Content-Type'])     # type of data\n",
    "print(page.encoding)"
   ]
  },
  {
   "cell_type": "markdown",
   "metadata": {},
   "source": [
    "3. Use beautifulsoup to get data from web page. Add to the code below to print the first 1000 characters of the page."
   ]
  },
  {
   "cell_type": "code",
   "execution_count": null,
   "metadata": {},
   "outputs": [],
   "source": [
    "page = requests.get('https://python.org/')\n",
    "soup = BeautifulSoup(page.content, \"lxml\") \n"
   ]
  },
  {
   "cell_type": "markdown",
   "metadata": {},
   "source": [
    "4. Find all tag names with 'b' in the name (use regex) and print just the tag name"
   ]
  },
  {
   "cell_type": "code",
   "execution_count": null,
   "metadata": {},
   "outputs": [],
   "source": []
  },
  {
   "cell_type": "markdown",
   "metadata": {},
   "source": [
    "5. Find all tag names that are 'image' or 'table' and print the entire tag element"
   ]
  },
  {
   "cell_type": "code",
   "execution_count": null,
   "metadata": {},
   "outputs": [],
   "source": [
    "                               "
   ]
  },
  {
   "cell_type": "markdown",
   "metadata": {},
   "source": [
    "6. Find and print all https links"
   ]
  },
  {
   "cell_type": "code",
   "execution_count": null,
   "metadata": {},
   "outputs": [],
   "source": []
  },
  {
   "cell_type": "markdown",
   "metadata": {},
   "source": [
    "7. Print all department names that are listed at the web page: http://deanza.edu/buscs/"
   ]
  },
  {
   "cell_type": "code",
   "execution_count": null,
   "metadata": {},
   "outputs": [],
   "source": []
  },
  {
   "cell_type": "markdown",
   "metadata": {},
   "source": [
    "<p>8. Use the API of the ISS (International Space Station) to see where the ISS is currently located.\n",
    "    <li>a. google:  iss api</li>\n",
    "    <li>b. go to the link (already coded below) and fetch the data</li>\n",
    "    <li>c. print the data. What data type is it?</li>\n",
    "    <li>d. print in nice format: time, latitude, longitude    (for time, use time.ctime(t)  to convert to a character time string)</li></p>"
   ]
  },
  {
   "cell_type": "code",
   "execution_count": null,
   "metadata": {},
   "outputs": [],
   "source": [
    "page = requests.get(\"http://api.open-notify.org/iss-now.json\")\n",
    "\n",
    "print(data)\n",
    "print()\n",
    "print(\"Current time:\")\n",
    "print(\"Latitude:\", \"\\nLongitude:\")"
   ]
  },
  {
   "cell_type": "markdown",
   "metadata": {},
   "source": [
    "An example of going further is to install and use the geopy module: https://pypi.python.org/pypi/geopy\n",
    "which will return a map location for a particular latitude,longitude"
   ]
  }
 ],
 "metadata": {
  "kernelspec": {
   "display_name": "Python 3 (ipykernel)",
   "language": "python",
   "name": "python3"
  },
  "language_info": {
   "codemirror_mode": {
    "name": "ipython",
    "version": 3
   },
   "file_extension": ".py",
   "mimetype": "text/x-python",
   "name": "python",
   "nbconvert_exporter": "python",
   "pygments_lexer": "ipython3",
   "version": "3.9.12"
  }
 },
 "nbformat": 4,
 "nbformat_minor": 4
}
