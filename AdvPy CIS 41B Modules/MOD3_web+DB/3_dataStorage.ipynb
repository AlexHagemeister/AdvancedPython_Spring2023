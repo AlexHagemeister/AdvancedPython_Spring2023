{
 "cells": [
  {
   "cell_type": "markdown",
   "metadata": {},
   "source": [
    "Module 3: Data storage"
   ]
  },
  {
   "cell_type": "code",
   "execution_count": 31,
   "metadata": {},
   "outputs": [],
   "source": [
    "import pickle  # pickle is used to store python objects in a file\n",
    "import json  # json is used to store python objects in a file\n",
    "import sqlite3  # sqlite3 is used to store python objects in a file"
   ]
  },
  {
   "cell_type": "markdown",
   "metadata": {},
   "source": [
    "1. What does the following code do?"
   ]
  },
  {
   "cell_type": "code",
   "execution_count": 32,
   "metadata": {},
   "outputs": [
    {
     "name": "stdout",
     "output_type": "stream",
     "text": [
      "<class 'bytes'>\n",
      "b'\\x80\\x04\\x95\\x17\\x00\\x00\\x00\\x00\\x00\\x00\\x00}\\x94(\\x8c\\x01a\\x94K\\x01\\x8c\\x01b\\x94K\\x02\\x8c\\x01c\\x94K\\x03u.'\n",
      "{'a': 1, 'b': 2, 'c': 3}\n"
     ]
    }
   ],
   "source": [
    "d = {\"a\": 1, \"b\": 2, \"c\": 3}  # create a dictionary\n",
    "b = pickle.dumps(d)  # pickle the dictionary into a bytes object\n",
    "print(type(b))  # print the type of the bytes object\n",
    "print(b)\n",
    "newD = pickle.loads(b)  # unpickle the bytes object into a dictionary\n",
    "print(newD)  # print the dictionary"
   ]
  },
  {
   "cell_type": "markdown",
   "metadata": {},
   "source": [
    "The provided code demonstrates the usage of the `pickle` module in Python. Here's what it does:\n",
    "\n",
    "1. Creates a dictionary `d` with three key-value pairs.\n",
    "2. Serializes the dictionary `d` using `pickle.dumps()`, which converts the dictionary into a binary string representation that can be stored or transmitted.\n",
    "3. Prints the type of the serialized object `b`, which will indicate that it is of type `bytes`.\n",
    "4. Prints the serialized object `b`, displaying the binary string representation of the dictionary.\n",
    "5. Deserializes the binary string `b` back into a Python object using `pickle.loads()`, reconstructing the original dictionary.\n",
    "6. Prints the deserialized object `newD`, confirming that it is the same as the original dictionary `d`.\n",
    "\n",
    "The `pickle` module in Python provides functionality for serializing (pickling) and deserializing (unpickling) Python objects. It is commonly used for object persistence, data storage, and inter-process communication."
   ]
  },
  {
   "cell_type": "markdown",
   "metadata": {},
   "source": [
    "2. Given the following Python data structures, convert your choice of data structure to json and print it to see what it looks like."
   ]
  },
  {
   "cell_type": "code",
   "execution_count": 33,
   "metadata": {},
   "outputs": [
    {
     "name": "stdout",
     "output_type": "stream",
     "text": [
      "{'Dept': 'CIS', 'Course number': '41B', 'Students': 40}\n"
     ]
    }
   ],
   "source": [
    "# Given the following Python data structures, convert your choice of data structure to json and print it to see what it looks like.\n",
    "d = {\"Dept\": \"CIS\", \"Course number\": \"41B\", \"Students\": 40}\n",
    "dod = {\"Dept\": \"CIS\", \"Course number\": \"41B\", \"Students\": {123: \"Fred\", 345: \"Wilma\", 456: \"Pebbles\", 678: \"Bam Bam\"}}\n",
    "dol = {\"Dept\": \"CIS\", \"Course number\": \"41B\", \"Students\": [\"Fred\", \"Wilma\", \"Pebbles\", \"Bam Bam\"]}\n",
    "l = [\"Fred\", \"Wilma\", \"Pebbles\", \"Bam Bam\"]\n",
    "\n",
    "# what does this code do?\n",
    "with open(\"data.json\", \"w\") as fh:  # open a file for writing\n",
    "    json.dump(d, fh, indent=3)  # write the dictionary d to the file with 3 spaces of indentation\n",
    "\n",
    "with open(\"data.json\", \"r\") as fh:  # open the file for reading\n",
    "    d = json.load(fh)  # load the json data from the file into the dictionary d\n",
    "print(d)\n",
    "\n",
    "# This code creates a json file with the data from the dictionary d. The json file is indented with 3 spaces."
   ]
  },
  {
   "cell_type": "markdown",
   "metadata": {},
   "source": [
    "3. Describe the steps in the following code and describe the database that's created."
   ]
  },
  {
   "cell_type": "code",
   "execution_count": 34,
   "metadata": {},
   "outputs": [],
   "source": [
    "# Describe the steps in the following code and describe the database that's created.\n",
    "conn = sqlite3.connect(\"students1.db\")  # connect to the database file\n",
    "cur = conn.cursor()  # create a cursor object\n",
    "cur.execute(\"DROP TABLE IF EXISTS StudentsDB\")  # drop the table if it exists\n",
    "\n",
    "# create a table called StudentsDB with 4 columns: sid, name, gpa, yearInSchool\n",
    "cur.execute(\n",
    "    \"\"\"CREATE TABLE StudentsDB(                 \n",
    "                   sid INTEGER NOT NULL PRIMARY KEY,\n",
    "                   name TEXT,\n",
    "                   gpa REAL,\n",
    "                   yearInSchool INT)\"\"\"\n",
    ")\n",
    "\n",
    "# insert 10 rows of data into the table\n",
    "cur.execute(\n",
    "    \"\"\"INSERT INTO StudentsDB \n",
    "               VALUES\n",
    "               (1234, 'Ada', 3.56, 2),\n",
    "               (3495, 'Guido', 3.21, 1),\n",
    "               (9239, 'Steve', 2.15, 3),\n",
    "               (3941, 'Sally', 3.92, 2),\n",
    "               (2874, 'Aretha', 3.40, 3), \n",
    "               (8412, 'Michio', 3.18, 2),\n",
    "               (1825, 'Mark', 2.39, 1),\n",
    "               (2946, 'Salman', 3.85, 2),\n",
    "               (1038, 'Jhumpa', 3.68, 1),\n",
    "               (1057, 'Carlos', 2.19, 1)\"\"\"\n",
    ")\n",
    "\n",
    "# commit the changes to the database\n",
    "conn.commit()"
   ]
  },
  {
   "cell_type": "markdown",
   "metadata": {},
   "source": [
    "4. Print all of the database to verify."
   ]
  },
  {
   "cell_type": "code",
   "execution_count": 35,
   "metadata": {},
   "outputs": [
    {
     "name": "stdout",
     "output_type": "stream",
     "text": [
      "(1038, 'Jhumpa', 3.68, 1)\n",
      "(1057, 'Carlos', 2.19, 1)\n",
      "(1234, 'Ada', 3.56, 2)\n",
      "(1825, 'Mark', 2.39, 1)\n",
      "(2874, 'Aretha', 3.4, 3)\n",
      "(2946, 'Salman', 3.85, 2)\n",
      "(3495, 'Guido', 3.21, 1)\n",
      "(3941, 'Sally', 3.92, 2)\n",
      "(8412, 'Michio', 3.18, 2)\n",
      "(9239, 'Steve', 2.15, 3)\n"
     ]
    }
   ],
   "source": [
    "# Print all of the database to verify\n",
    "cur.execute(\"SELECT * FROM StudentsDB\")\n",
    "for row in cur:\n",
    "    print(row)\n",
    "\n",
    "# # close the connection to the database\n",
    "# conn.close()"
   ]
  },
  {
   "cell_type": "markdown",
   "metadata": {},
   "source": [
    "5. Use the user iniput to add one more student to the database. Then in a separate step, add the gpa to 4.0"
   ]
  },
  {
   "cell_type": "code",
   "execution_count": 36,
   "metadata": {},
   "outputs": [
    {
     "ename": "IntegrityError",
     "evalue": "UNIQUE constraint failed: StudentsDB.sid",
     "output_type": "error",
     "traceback": [
      "\u001b[0;31m---------------------------------------------------------------------------\u001b[0m",
      "\u001b[0;31mIntegrityError\u001b[0m                            Traceback (most recent call last)",
      "\u001b[0;32m/var/folders/ym/50f9gfp105v6t4xqyx661zb80000gn/T/ipykernel_85767/2654984954.py\u001b[0m in \u001b[0;36m<module>\u001b[0;34m\u001b[0m\n\u001b[1;32m      9\u001b[0m \u001b[0;34m\u001b[0m\u001b[0m\n\u001b[1;32m     10\u001b[0m \u001b[0;31m# insert a row of data into the table\u001b[0m\u001b[0;34m\u001b[0m\u001b[0;34m\u001b[0m\u001b[0m\n\u001b[0;32m---> 11\u001b[0;31m \u001b[0mcur\u001b[0m\u001b[0;34m.\u001b[0m\u001b[0mexecute\u001b[0m\u001b[0;34m(\u001b[0m\u001b[0;34m\"INSERT INTO StudentsDB VALUES (?, ?, ?, ?)\"\u001b[0m\u001b[0;34m,\u001b[0m \u001b[0;34m(\u001b[0m\u001b[0mid\u001b[0m\u001b[0;34m,\u001b[0m \u001b[0mname\u001b[0m\u001b[0;34m,\u001b[0m \u001b[0mgpa\u001b[0m\u001b[0;34m,\u001b[0m \u001b[0myear\u001b[0m\u001b[0;34m)\u001b[0m\u001b[0;34m)\u001b[0m\u001b[0;34m\u001b[0m\u001b[0;34m\u001b[0m\u001b[0m\n\u001b[0m\u001b[1;32m     12\u001b[0m \u001b[0mconn\u001b[0m\u001b[0;34m.\u001b[0m\u001b[0mcommit\u001b[0m\u001b[0;34m(\u001b[0m\u001b[0;34m)\u001b[0m  \u001b[0;31m# commit the changes to the database\u001b[0m\u001b[0;34m\u001b[0m\u001b[0;34m\u001b[0m\u001b[0m\n\u001b[1;32m     13\u001b[0m \u001b[0;34m\u001b[0m\u001b[0m\n",
      "\u001b[0;31mIntegrityError\u001b[0m: UNIQUE constraint failed: StudentsDB.sid"
     ]
    }
   ],
   "source": [
    "# Use the user input to add one more student to the database. Then in a separate step, add the GPA to 4.0\n",
    "name = input(\"Enter student name: \")\n",
    "id = input(\"Enter student ID: \")\n",
    "year = input(\"Enter year in school: \")\n",
    "gpa = input(\"Enter GPA: \") # whoops, should have done in separate step\n",
    "\n",
    "conn = sqlite3.connect(\"students1.db\")  # connect to the database file\n",
    "cur = conn.cursor()  # create a cursor object\n",
    "\n",
    "# insert a row of data into the table\n",
    "cur.execute(\"INSERT INTO StudentsDB VALUES (?, ?, ?, ?)\", (id, name, gpa, year))\n",
    "conn.commit()  # commit the changes to the database\n",
    "\n",
    "# Print all of the database to verify\n",
    "cur.execute(\"SELECT * FROM StudentsDB\")\n",
    "for row in cur:\n",
    "    print(row)"
   ]
  },
  {
   "cell_type": "markdown",
   "metadata": {},
   "source": [
    "6. Search for one student"
   ]
  },
  {
   "cell_type": "code",
   "execution_count": null,
   "metadata": {},
   "outputs": [
    {
     "name": "stdout",
     "output_type": "stream",
     "text": [
      "(1234, 'Hopper, Grace', 1, 3.78, 1)\n"
     ]
    }
   ],
   "source": [
    "# search for a student by id\n",
    "id = input(\"Enter student id: \")\n",
    "# How to search: SELECT * FROM StudentsDB WHERE sid = 1234\n",
    "# meaning: select all columns from StudentsDB where sid = 1234\n",
    "cur.execute(\"SELECT * FROM StudentsDB WHERE sid = ?\", (id,))\n",
    "# fetch the first row of the result\n",
    "# result is a tuple of the values in the row\n",
    "row = cur.fetchone()\n",
    "# if the row is None, the student was not found\n",
    "if row is None:\n",
    "    print(\"Student not found\")\n",
    "else:\n",
    "    print(row)\n",
    "    \n"
   ]
  },
  {
   "cell_type": "markdown",
   "metadata": {},
   "source": [
    "7. print the names of all the students"
   ]
  },
  {
   "cell_type": "code",
   "execution_count": 38,
   "metadata": {},
   "outputs": [
    {
     "name": "stdout",
     "output_type": "stream",
     "text": [
      "VanRossum, Guido\n",
      "Lopez, Jennifer\n",
      "Rice, Jerry\n",
      "Kaku, Michio\n",
      "Hopper, Grace\n",
      "Jung, Andrea\n",
      "VanRossum, Guido\n",
      "Lopez, Jennifer\n",
      "Rice, Jerry\n",
      "Kaku, Michio\n",
      "Hopper, Grace\n",
      "Jung, Andrea\n"
     ]
    }
   ],
   "source": [
    "# Print the names of all students\n",
    "cur.execute(\"SELECT name FROM StudentsDB\")\n",
    "for row in cur:\n",
    "    print(row[0])\n",
    "\n",
    "#alt\n",
    "for name in cur.execute(\"SELECT name FROM StudentsDB\"):\n",
    "    print(name[0])"
   ]
  },
  {
   "cell_type": "markdown",
   "metadata": {},
   "source": [
    "8. print the name and gpa of all students with gpa > 3.0, in ascending order of gpa.<br/>Then print all student records where the year in school is between 2 and 3"
   ]
  },
  {
   "cell_type": "code",
   "execution_count": 41,
   "metadata": {},
   "outputs": [
    {
     "name": "stdout",
     "output_type": "stream",
     "text": [
      "Name: Lopez, Jennifer, GPA: 3.28\n",
      "Name: Jung, Andrea, GPA: 3.67\n",
      "Name: Hopper, Grace, GPA: 3.78\n",
      "Name: Kaku, Michio, GPA: 3.82\n"
     ]
    }
   ],
   "source": [
    "# print the name and gpa of all students with gpa > 3.0 in ascending order of gpa\n",
    "# New things: WHERE, ORDER BY\n",
    "# WHERE is used to filter the rows\n",
    "# ORDER BY is used to sort the rows by a column, default is ascending order\n",
    "# to sort in descending order, add DESC after the column name\n",
    "\n",
    "## OLD\n",
    "# cur.execute(\"SELECT name, gpa FROM StudentsDB WHERE gpa > 3.0 ORDER BY gpa\")\n",
    "# for row in cur:\n",
    "#     print(f\"Name: {row[0]}, GPA: {row[1]}\")\n",
    "\n",
    "## NEW\n",
    "# for name, gpa in cur.execute(\"SELECT name, gpa FROM StudentsDB WHERE gpa > 3.0 ORDER BY gpa\"):\n",
    "#     print(f\"Name: {name}, GPA: {gpa}\")\n",
    "\n",
    "## NEWER\n",
    "cur.execute(\"SELECT name, gpa FROM StudentsDB WHERE gpa > 3.0 ORDER BY gpa\")\n",
    "for record in cur.fetchall():\n",
    "    print(f\"Name: {record[0]}, GPA: {record[1]}\")\n",
    "\n",
    "\n",
    "\n",
    "\n"
   ]
  },
  {
   "cell_type": "markdown",
   "metadata": {},
   "source": [
    "9. Close the connection to the database"
   ]
  },
  {
   "cell_type": "code",
   "execution_count": 42,
   "metadata": {},
   "outputs": [],
   "source": [
    "# close the connection to the database\n",
    "conn.close()\n",
    "# Q: When should a connection be closed?\n",
    "# A: When the program is done with the database"
   ]
  },
  {
   "cell_type": "markdown",
   "metadata": {},
   "source": [
    "10. How are the tables in this database related?"
   ]
  },
  {
   "cell_type": "code",
   "execution_count": 43,
   "metadata": {},
   "outputs": [],
   "source": [
    "conn = sqlite3.connect(\"students2.db\")\n",
    "cur = conn.cursor()\n",
    "\n",
    "cur.execute(\"DROP TABLE IF EXISTS States\")\n",
    "cur.execute(\n",
    "    \"\"\"CREATE TABLE States(             \n",
    "                   id INTEGER NOT NULL PRIMARY KEY,\n",
    "                   state TEXT UNIQUE ON CONFLICT IGNORE)\"\"\"\n",
    ")\n",
    "cur.execute(\"DROP TABLE IF EXISTS Towns\")\n",
    "cur.execute(\n",
    "    \"\"\"CREATE TABLE Towns(             \n",
    "                   id INTEGER NOT NULL PRIMARY KEY UNIQUE,\n",
    "                   town TEXT UNIQUE ON CONFLICT IGNORE,\n",
    "                   state_id INTEGER)\"\"\"\n",
    ")\n",
    "cur.execute(\"DROP TABLE IF EXISTS Majors\")\n",
    "cur.execute(\n",
    "    \"\"\"CREATE TABLE Majors(             \n",
    "                   id INTEGER NOT NULL PRIMARY KEY UNIQUE,\n",
    "                   major TEXT UNIQUE ON CONFLICT IGNORE)\"\"\"\n",
    ")\n",
    "cur.execute(\"DROP TABLE IF EXISTS StudentsDB\")\n",
    "cur.execute(\n",
    "    \"\"\"CREATE TABLE StudentsDB(             \n",
    "                   sid INTEGER NOT NULL PRIMARY KEY UNIQUE,\n",
    "                   name TEXT,\n",
    "                   major_id INTEGER,\n",
    "                   gpa REAL,\n",
    "                   town_id INTEGER)\"\"\"\n",
    ")\n",
    "\n",
    "students = [\n",
    "    (1234, \"Hopper, Grace\", \"CS\", 3.78, \"New York\", \"NY\"),\n",
    "    (947, \"Kaku, Michio\", \"Physics\", 3.82, \"San Jose\", \"CA\"),\n",
    "    (235, \"VanRossum, Guido\", \"CS\", 2.72, \"San Francisco\", \"CA\"),\n",
    "    (439, \"Lopez, Jennifer\", \"Music\", 3.28, \"Los Angeles\", \"CA\"),\n",
    "    (673, \"Rice, Jerry\", \"Business\", 2.75, \"San Francisco\", \"CA\"),\n",
    "    (8222, \"Jung, Andrea\", \"Business\", 3.67, \"New York\", \"NY\"),\n",
    "]\n",
    "\n",
    "for record in students:\n",
    "    cur.execute(\"\"\"INSERT INTO States (state) VALUES (?)\"\"\", (record[5],))\n",
    "    cur.execute(\"SELECT id FROM States WHERE state = ? \", (record[5],))\n",
    "    state_id = cur.fetchone()[0]\n",
    "\n",
    "    cur.execute(\"\"\"INSERT INTO Towns (town, state_id) VALUES (?, ?)\"\"\", (record[4], state_id))\n",
    "    cur.execute(\"SELECT id FROM Towns WHERE town = ? \", (record[4],))\n",
    "    town_id = cur.fetchone()[0]\n",
    "\n",
    "    cur.execute(\"\"\"INSERT INTO Majors (major) VALUES (?)\"\"\", (record[2],))\n",
    "    cur.execute(\"SELECT id FROM Majors WHERE major = ? \", (record[2],))\n",
    "    major_id = cur.fetchone()[0]\n",
    "\n",
    "    cur.execute(\n",
    "        \"\"\"INSERT INTO StudentsDB\n",
    "        (sid, name, major_id, gpa, town_id) \n",
    "        VALUES ( ?, ?, ?, ?, ? )\"\"\",\n",
    "        (record[0], record[1], major_id, record[3], town_id),\n",
    "    )\n",
    "\n",
    "conn.commit()\n",
    "\n",
    "# Q: how are the tables in this database related?\n",
    "# A: the tables are related by the id columns in each table that are used as foreign keys in other tables\n",
    "# In other words, the id columns in each table are used to refer to a row in another table\n",
    "\n",
    "# Q: where is the data stored after conn.commit()?\n",
    "# A: in the database file students2.db which is in the same directory as this file"
   ]
  },
  {
   "cell_type": "markdown",
   "metadata": {},
   "source": [
    "11. Print the majors table"
   ]
  },
  {
   "cell_type": "code",
   "execution_count": 45,
   "metadata": {},
   "outputs": [
    {
     "name": "stdout",
     "output_type": "stream",
     "text": [
      "[(1, 'CS'), (2, 'Physics'), (3, 'Music'), (4, 'Business')]\n"
     ]
    }
   ],
   "source": [
    "# print the majors table\n",
    "cur.execute(\"SELECT * FROM Majors\")\n",
    "# for row in cur:\n",
    "#     print(row)\n",
    "print(cur.fetchall())"
   ]
  },
  {
   "cell_type": "markdown",
   "metadata": {},
   "source": [
    "12. Print all student names where major is CS"
   ]
  },
  {
   "cell_type": "code",
   "execution_count": 46,
   "metadata": {},
   "outputs": [
    {
     "name": "stdout",
     "output_type": "stream",
     "text": [
      "[('VanRossum, Guido',), ('Hopper, Grace',)]\n"
     ]
    }
   ],
   "source": [
    "# print all student names where major is CS\n",
    "cur.execute(\"\"\"SELECT StudentsDB.name FROM StudentsDB JOIN Majors ON StudentsDB.major_id = Majors.id WHERE major = 'CS'\"\"\")\n",
    "print(cur.fetchall())"
   ]
  },
  {
   "cell_type": "markdown",
   "metadata": {},
   "source": [
    "13. What does the following code do?"
   ]
  },
  {
   "cell_type": "code",
   "execution_count": null,
   "metadata": {},
   "outputs": [
    {
     "name": "stdout",
     "output_type": "stream",
     "text": [
      "VanRossum, Guido\n",
      "Lopez, Jennifer\n",
      "Rice, Jerry\n",
      "Kaku, Michio\n"
     ]
    }
   ],
   "source": [
    "cur.execute(\n",
    "    \"\"\"SELECT StudentsDB.name  FROM StudentsDB JOIN Towns JOIN States\n",
    "               ON StudentsDB.town_id = Towns.id AND Towns.state_id = States.id AND States.state = \"CA\" \"\"\"\n",
    ")\n",
    "for record in cur.fetchall():\n",
    "    print(record[0])"
   ]
  },
  {
   "cell_type": "markdown",
   "metadata": {},
   "source": [
    "14. Print all student names who live in CA and with gpa > 3.0"
   ]
  },
  {
   "cell_type": "code",
   "execution_count": null,
   "metadata": {},
   "outputs": [],
   "source": [
    "for record in cur.fetchall():\n",
    "    print(record[0])"
   ]
  },
  {
   "cell_type": "markdown",
   "metadata": {},
   "source": [
    "15. For all students who live in a place starting with 'San', print: \"name lives in location\""
   ]
  },
  {
   "cell_type": "code",
   "execution_count": null,
   "metadata": {},
   "outputs": [
    {
     "ename": "IndentationError",
     "evalue": "expected an indented block (2529696935.py, line 2)",
     "output_type": "error",
     "traceback": [
      "\u001b[0;36m  File \u001b[0;32m\"/var/folders/ym/50f9gfp105v6t4xqyx661zb80000gn/T/ipykernel_85767/2529696935.py\"\u001b[0;36m, line \u001b[0;32m2\u001b[0m\n\u001b[0;31m    \u001b[0m\n\u001b[0m    ^\u001b[0m\n\u001b[0;31mIndentationError\u001b[0m\u001b[0;31m:\u001b[0m expected an indented block\n"
     ]
    }
   ],
   "source": [
    "\n",
    "for record in cur.fetchall() :\n",
    "    "
   ]
  },
  {
   "cell_type": "code",
   "execution_count": null,
   "metadata": {},
   "outputs": [],
   "source": [
    "conn.close()"
   ]
  },
  {
   "cell_type": "code",
   "execution_count": null,
   "metadata": {},
   "outputs": [],
   "source": []
  }
 ],
 "metadata": {
  "kernelspec": {
   "display_name": "Python 3 (ipykernel)",
   "language": "python",
   "name": "python3"
  },
  "language_info": {
   "codemirror_mode": {
    "name": "ipython",
    "version": 3
   },
   "file_extension": ".py",
   "mimetype": "text/x-python",
   "name": "python",
   "nbconvert_exporter": "python",
   "pygments_lexer": "ipython3",
   "version": "3.9.12"
  }
 },
 "nbformat": 4,
 "nbformat_minor": 4
}
