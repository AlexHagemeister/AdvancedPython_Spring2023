{
 "cells": [
  {
   "cell_type": "markdown",
   "id": "07cbd8af-e82e-4847-a595-9ed2d970938a",
   "metadata": {},
   "source": [
    "## CIS 41B - Sample Midterm 1 questions\n",
    "The following are some sample questions from modules 1 and 2.  \n",
    "\t- There will also be questions on your lab 1 or lab 2.   \n",
    "\t- They are specific to the labs of each quarter so they are not included  \n",
    "\tin this file.  "
   ]
  },
  {
   "cell_type": "markdown",
   "id": "900f4c57-ad69-4a00-a69c-b9014b2381db",
   "metadata": {},
   "source": [
    "### 1a. Given these function calls to the calc function:\n",
    "\n",
    "```python\n",
    "print(calc(*range(1,5))) \t# will print: 10  \n",
    "print(calc(2,4)) \t\t\t# will print: 6  \n",
    "```\n",
    "\n",
    "Write the function calc, which returns the sum of all numbers that it receives as input arguments."
   ]
  },
  {
   "cell_type": "code",
   "execution_count": 18,
   "id": "b8125a65-7d01-438c-b616-4c9491a91651",
   "metadata": {},
   "outputs": [],
   "source": [
    "# version 1\n",
    "def calc(*args, **kwargs):\n",
    "    sum = 0\n",
    "    for index, value in enumerate(*args):\n",
    "        sum += value\n",
    "    return sum\n",
    "\n",
    "# version2\n",
    "import numpy as np\n",
    "def calc2(*args, **kwargs):\n",
    "    return np.sum(*args)"
   ]
  },
  {
   "cell_type": "markdown",
   "id": "ae0b36f1-f49a-4fe2-b39f-aef5d7d2c6de",
   "metadata": {},
   "source": [
    "## 1b. Write code to call calc and pass to it the list L: L = [8, 2, -9, 14]"
   ]
  },
  {
   "cell_type": "code",
   "execution_count": 20,
   "id": "6d66f4f1-57e6-4847-af63-07dff5102d61",
   "metadata": {},
   "outputs": [
    {
     "name": "stdout",
     "output_type": "stream",
     "text": [
      "15\n",
      "15\n"
     ]
    }
   ],
   "source": [
    "L = [8, 2, -9, 14]\n",
    "\n",
    "print(calc(L))\n",
    "\n",
    "print(calc2(L))"
   ]
  },
  {
   "cell_type": "markdown",
   "id": "30a31993-418b-4d5b-96e5-88c73d473d39",
   "metadata": {},
   "source": [
    "### 2a. Write code to produce the squared value of odd integers: 1, 9, 25, 49..."
   ]
  },
  {
   "cell_type": "code",
   "execution_count": 51,
   "id": "9e6393bc-c076-4308-b743-c726c4818128",
   "metadata": {},
   "outputs": [],
   "source": [
    "import numpy as np\n",
    "# num_odds = 10\n",
    "# squared_odds = [x**2 for x in np.arange(10) if x % 2 == 1]\n",
    "# # print(squared_odds)\n",
    "\n",
    "def squared_odds(N):\n",
    "    return [x**2 for x in np.arange(2*N) if x % 2 == 1]\n",
    "    \n",
    "# print(squared_odds(6))"
   ]
  },
  {
   "cell_type": "markdown",
   "id": "1abf005b-40a0-4b89-a6b3-387c9f162ab0",
   "metadata": {},
   "source": [
    "### 2b. Use the code in part a to print the first N values in the sequence, with all values on the same line, separated by comma."
   ]
  },
  {
   "cell_type": "code",
   "execution_count": 59,
   "id": "899ca458-99ca-4658-bf17-d041ce8632c7",
   "metadata": {},
   "outputs": [
    {
     "name": "stdout",
     "output_type": "stream",
     "text": [
      "1, 9, 25, 49, 81, 121, 169, 225, 289, 361\n"
     ]
    }
   ],
   "source": [
    "N = 10\n",
    "sq_o = squared_odds(N)\n",
    "\n",
    "# for val in sq_o[:-1]:\n",
    "#     print(val, end=\", \")\n",
    "# print(sq_o[-1])\n",
    "\n",
    "output = \", \".join(str(val) for val in squared_odds(N))\n",
    "\n",
    "print(output)"
   ]
  },
  {
   "cell_type": "markdown",
   "id": "05a58f3b-3f91-45b7-858e-a02fa239d4b8",
   "metadata": {},
   "source": [
    "### 3. Show the values printed on screen after this code segment runs:\n",
    "\n",
    "```python\n",
    "A = np.array(list(zip(range(8), range(100,200), range(4,60))))  \n",
    "print(A.shape)  \n",
    "B = A[:2,:]  \n",
    "print(B/2)  \n",
    "```"
   ]
  },
  {
   "cell_type": "raw",
   "id": "e199d9f6-c8e7-4f8c-8eb4-e5cb33e45b04",
   "metadata": {},
   "source": [
    "ln1: A is an ndarray of shape 8, 3 (zip will stop zipping after smallest iterable is exhausted)\n",
    "\n",
    "B is a view of A: rows 0-2, columns are ...?"
   ]
  },
  {
   "cell_type": "markdown",
   "id": "576fb371-3455-4190-8fac-95cb9bb7fb63",
   "metadata": {},
   "source": [
    "### 4. You have a list L of average yearly rainfall in Cupertino between 1980 and 2020.\n",
    "You want to see if Cupertino is getting wetter, dryer, or remains the same.  \n",
    "Write code to help people see the rainfalltrend in a plot.   \n",
    "Show the x-axis and y-axis labels, and show the title.  "
   ]
  },
  {
   "cell_type": "markdown",
   "id": "c4b7b574-dffa-4e2a-a25f-0a3d6410a2d6",
   "metadata": {},
   "source": [
    "### 5. Write a Tk window class that displays this window with all the widgets shown:\n",
    "\n",
    "#### name [a text box here]   \n",
    "\n",
    "Whenever the user enters a name text string, a line of text appears to say hi to the user, \n",
    "in blue color and with each firstletter in uppercase"
   ]
  },
  {
   "cell_type": "code",
   "execution_count": null,
   "id": "084537e0-4ccf-47ab-992c-cb5e250e7370",
   "metadata": {},
   "outputs": [],
   "source": []
  }
 ],
 "metadata": {
  "kernelspec": {
   "display_name": "Python 3 (ipykernel)",
   "language": "python",
   "name": "python3"
  },
  "language_info": {
   "codemirror_mode": {
    "name": "ipython",
    "version": 3
   },
   "file_extension": ".py",
   "mimetype": "text/x-python",
   "name": "python",
   "nbconvert_exporter": "python",
   "pygments_lexer": "ipython3",
   "version": "3.9.12"
  }
 },
 "nbformat": 4,
 "nbformat_minor": 5
}
