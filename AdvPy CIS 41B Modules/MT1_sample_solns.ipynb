{
 "cells": [
  {
   "cell_type": "markdown",
   "id": "07cbd8af-e82e-4847-a595-9ed2d970938a",
   "metadata": {},
   "source": [
    "## CIS 41B - Sample Midterm 1 questions\n",
    "The following are some sample questions from modules 1 and 2.  \n",
    "\t- There will also be questions on your lab 1 or lab 2.   \n",
    "\t- They are specific to the labs of each quarter so they are not included  \n",
    "\tin this file.  "
   ]
  },
  {
   "cell_type": "markdown",
   "id": "900f4c57-ad69-4a00-a69c-b9014b2381db",
   "metadata": {},
   "source": [
    "### 1a. Given these function calls to the calc function:\n",
    "\n",
    "```python\n",
    "print(calc(*range(1,5))) \t# will print: 10  \n",
    "print(calc(2,4)) \t\t\t# will print: 6  \n",
    "```\n",
    "\n",
    "Write the function calc, which returns the sum of all numbers that it receives as input arguments."
   ]
  },
  {
   "cell_type": "code",
   "execution_count": 1,
   "id": "b8125a65-7d01-438c-b616-4c9491a91651",
   "metadata": {},
   "outputs": [],
   "source": [
    "def calc(*nums) :       \n",
    "     return sum(nums)    "
   ]
  },
  {
   "cell_type": "markdown",
   "id": "ae0b36f1-f49a-4fe2-b39f-aef5d7d2c6de",
   "metadata": {},
   "source": [
    "## 1b. Write code to call calc and pass to it the list L: L = [8, 2, -9, 14]"
   ]
  },
  {
   "cell_type": "code",
   "execution_count": 2,
   "id": "6d66f4f1-57e6-4847-af63-07dff5102d61",
   "metadata": {},
   "outputs": [
    {
     "ename": "NameError",
     "evalue": "name 'calc' is not defined",
     "output_type": "error",
     "traceback": [
      "\u001b[0;31m---------------------------------------------------------------------------\u001b[0m",
      "\u001b[0;31mNameError\u001b[0m                                 Traceback (most recent call last)",
      "\u001b[0;32m/var/folders/ym/50f9gfp105v6t4xqyx661zb80000gn/T/ipykernel_96632/1899734645.py\u001b[0m in \u001b[0;36m<module>\u001b[0;34m\u001b[0m\n\u001b[1;32m      1\u001b[0m \u001b[0mL\u001b[0m \u001b[0;34m=\u001b[0m \u001b[0;34m[\u001b[0m\u001b[0;36m8\u001b[0m\u001b[0;34m,\u001b[0m \u001b[0;36m2\u001b[0m\u001b[0;34m,\u001b[0m \u001b[0;34m-\u001b[0m\u001b[0;36m9\u001b[0m\u001b[0;34m,\u001b[0m \u001b[0;36m14\u001b[0m\u001b[0;34m]\u001b[0m\u001b[0;34m\u001b[0m\u001b[0;34m\u001b[0m\u001b[0m\n\u001b[0;32m----> 2\u001b[0;31m \u001b[0mcalc\u001b[0m\u001b[0;34m(\u001b[0m\u001b[0;34m*\u001b[0m\u001b[0mL\u001b[0m\u001b[0;34m)\u001b[0m\u001b[0;34m\u001b[0m\u001b[0;34m\u001b[0m\u001b[0m\n\u001b[0m",
      "\u001b[0;31mNameError\u001b[0m: name 'calc' is not defined"
     ]
    }
   ],
   "source": [
    "L = [8, 2, -9, 14]\n",
    "calc(*L) \n"
   ]
  },
  {
   "cell_type": "code",
   "execution_count": 16,
   "id": "699664a3-f303-4f6d-8393-b8058af78887",
   "metadata": {},
   "outputs": [
    {
     "data": {
      "text/plain": [
       "4"
      ]
     },
     "execution_count": 16,
     "metadata": {},
     "output_type": "execute_result"
    }
   ],
   "source": [
    "import numpy as np\n",
    "arr = np.array([[1,2], \n",
    "                [3, 4]])\n",
    "rows, cols = arr.shape\n",
    "# print(rows, cols)\n",
    "# arr.shape\n",
    "np.sum(arr[:,0])"
   ]
  },
  {
   "cell_type": "markdown",
   "id": "30a31993-418b-4d5b-96e5-88c73d473d39",
   "metadata": {},
   "source": [
    "### 2a. Write code to produce the squared value of odd integers: 1, 9, 25, 49..."
   ]
  },
  {
   "cell_type": "code",
   "execution_count": 4,
   "id": "9e6393bc-c076-4308-b743-c726c4818128",
   "metadata": {},
   "outputs": [],
   "source": [
    "def gen() :\n",
    "     num = 1\n",
    "     while True :\n",
    "          yield num * num\n",
    "          num += 2"
   ]
  },
  {
   "cell_type": "markdown",
   "id": "1abf005b-40a0-4b89-a6b3-387c9f162ab0",
   "metadata": {},
   "source": [
    "### 2b. Use the code in part a to print the first N values in the sequence, with all values on the same line, separated by comma."
   ]
  },
  {
   "cell_type": "code",
   "execution_count": 6,
   "id": "899ca458-99ca-4658-bf17-d041ce8632c7",
   "metadata": {},
   "outputs": [
    {
     "name": "stdout",
     "output_type": "stream",
     "text": [
      "1,9,25,49,81,121,169,225,289,361\n"
     ]
    }
   ],
   "source": [
    "N = 10\n",
    "G = gen()\n",
    "print(\",\".join([str(next(G)) for j in range(N)]))"
   ]
  },
  {
   "cell_type": "markdown",
   "id": "05a58f3b-3f91-45b7-858e-a02fa239d4b8",
   "metadata": {},
   "source": [
    "### 3. Show the values printed on screen after this code segment runs:\n",
    "\n",
    "```python\n",
    "A = np.array(list(zip(range(8), range(100,200), range(4,60))))  \n",
    "print(A.shape)  \n",
    "B = A[:2,:]  \n",
    "print(B/2)  \n",
    "```"
   ]
  },
  {
   "cell_type": "raw",
   "id": "e199d9f6-c8e7-4f8c-8eb4-e5cb33e45b04",
   "metadata": {},
   "source": [
    "# rows of A:   0  100  4\n",
    "#              1  101  5\n",
    "#                ...\n",
    "#              7  107  11\n",
    "\n",
    "print(A.shape)        # print:  (8,3)\n",
    "\n",
    "B = A[:2,:]   # B is first 2 rows of A\n",
    "\n",
    "print(B/2)    # print:  0.  50.   2.\n",
    "                        0.5 50.5  2.5"
   ]
  },
  {
   "cell_type": "markdown",
   "id": "576fb371-3455-4190-8fac-95cb9bb7fb63",
   "metadata": {},
   "source": [
    "### 4. You have a list L of average yearly rainfall in Cupertino between 1980 and 2020.\n",
    "You want to see if Cupertino is getting wetter, dryer, or remains the same.  \n",
    "Write code to help people see the rainfalltrend in a plot.   \n",
    "Show the x-axis and y-axis labels, and show the title.  "
   ]
  },
  {
   "cell_type": "code",
   "execution_count": 17,
   "id": "c74439a6-bc39-4e02-aeda-5300d03c76b6",
   "metadata": {},
   "outputs": [
    {
     "data": {
      "image/png": "[encoded data removed]",
      "text/plain": [
       "<Figure size 432x288 with 1 Axes>"
      ]
     },
     "metadata": {
      "needs_background": "light"
     },
     "output_type": "display_data"
    }
   ],
   "source": [
    "import matplotlib.pyplot as plt\n",
    "import numpy as np\n",
    "\n",
    "L = [12, 9, 10, 18, 12, 8, 7, 6, 6, 8, 13, 11, 9, 14, 15, 10, 12, 11, 10, 9, 8, 7, 9, 13, 10, 8, 7, 6, 6, 8, 13]\n",
    "years = np.arange(1990, 2021)\n",
    "\n",
    "plt.plot(years, L)\n",
    "plt.xlabel(\"Years\")\n",
    "plt.ylabel(\"Rainfall (inches)\")\n",
    "plt.title(\"Cupertino Rainfall Trend (1990-2020)\")\n",
    "plt.show()\n"
   ]
  },
  {
   "cell_type": "markdown",
   "id": "c4b7b574-dffa-4e2a-a25f-0a3d6410a2d6",
   "metadata": {},
   "source": [
    "### 5. Write a Tk window class that displays this window with all the widgets shown:\n",
    "\n",
    "#### name [a text box here]   \n",
    "\n",
    "Whenever the user enters a name text string, a line of text appears to say hi to the user, \n",
    "in blue color and with each firstletter in uppercase"
   ]
  },
  {
   "cell_type": "code",
   "execution_count": 1,
   "id": "084537e0-4ccf-47ab-992c-cb5e250e7370",
   "metadata": {},
   "outputs": [],
   "source": [
    "import tkinter as tk\n",
    "\n",
    "class MainWin(tk.Tk) :\n",
    "    def __init__(self) :\n",
    "        super().__init__()\n",
    "        F = tk.Frame()\n",
    "        F.grid()\n",
    "        tk.Label(F, text=\"Name\").grid()\n",
    "        self.var = tk.StringVar()\n",
    "        self.E = tk.Entry(F, textvariable=self.var)\n",
    "        self.E.grid(row=0,column=1)\n",
    "        self.E.bind('<Return>', self.callbackfct)\n",
    "        # self.E.bind('<Return>', self.destroy())\n",
    "#         self.printVar = tk.StringVar()\n",
    "#         tk.Label(self, textvariable=self.printVar, fg=\"blue\").grid()\n",
    "        \n",
    "    def callbackfct(self, event) :\n",
    "        # self.printVar.set(\"Hi \" + self.var.get().title())\n",
    "        self.destroy()\n",
    "        self.quit()\n",
    "        \n",
    "win = MainWin().mainloop()"
   ]
  },
  {
   "cell_type": "code",
   "execution_count": 19,
   "id": "d8e61c09-b484-4122-9c2b-810d29ef5b8d",
   "metadata": {},
   "outputs": [],
   "source": []
  },
  {
   "cell_type": "code",
   "execution_count": null,
   "id": "c7f892e7-f735-4465-b3f0-9f1706bc9d52",
   "metadata": {},
   "outputs": [],
   "source": []
  }
 ],
 "metadata": {
  "kernelspec": {
   "display_name": "Python 3 (ipykernel)",
   "language": "python",
   "name": "python3"
  },
  "language_info": {
   "codemirror_mode": {
    "name": "ipython",
    "version": 3
   },
   "file_extension": ".py",
   "mimetype": "text/x-python",
   "name": "python",
   "nbconvert_exporter": "python",
   "pygments_lexer": "ipython3",
   "version": "3.9.12"
  }
 },
 "nbformat": 4,
 "nbformat_minor": 5
}
