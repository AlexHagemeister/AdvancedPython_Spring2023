{
 "cells": [
  {
   "cell_type": "markdown",
   "metadata": {},
   "source": [
    "### Review Python, Iterables"
   ]
  },
  {
   "cell_type": "markdown",
   "metadata": {},
   "source": [
    "1. Print the count of each letter in the string s, sorted by letter\n",
    "\n",
    "   Challenge: can you find 2 ways to do this?"
   ]
  },
  {
   "cell_type": "code",
   "execution_count": 1,
   "metadata": {},
   "outputs": [],
   "source": [
    "s = \"california\""
   ]
  },
  {
   "cell_type": "code",
   "execution_count": 2,
   "metadata": {},
   "outputs": [
    {
     "name": "stdout",
     "output_type": "stream",
     "text": [
      "a 2\n",
      "c 1\n",
      "f 1\n",
      "i 2\n",
      "l 1\n",
      "n 1\n",
      "o 1\n",
      "r 1\n"
     ]
    }
   ],
   "source": [
    "myDict = {}\n",
    "for letter in s:\n",
    "    myDict[letter] = myDict.get(letter, 0) + 1 # gets 0 if no letter\n",
    "for key in sorted(myDict):\n",
    "    print(key, myDict[key])"
   ]
  },
  {
   "cell_type": "code",
   "execution_count": 3,
   "metadata": {},
   "outputs": [
    {
     "name": "stdout",
     "output_type": "stream",
     "text": [
      "a 2\n",
      "c 1\n",
      "f 1\n",
      "i 2\n",
      "l 1\n",
      "n 1\n",
      "o 1\n",
      "r 1\n"
     ]
    }
   ],
   "source": [
    "# Version 2\n",
    "import collections\n",
    "\n",
    "myDict = collections.defaultdict(int)\n",
    "for letter in s:\n",
    "    myDict[letter] += 1 \n",
    "for key in sorted(myDict):\n",
    "    print(key, myDict[key])"
   ]
  },
  {
   "cell_type": "markdown",
   "metadata": {},
   "source": [
    "2. Print the count of each letter in the string s, sorted by count"
   ]
  },
  {
   "cell_type": "code",
   "execution_count": null,
   "metadata": {},
   "outputs": [],
   "source": [
    "s = \"california\"\n",
    "\n",
    "D = {}\n",
    "for letter in s:\n",
    "    D[letter] = D.get(letter, 0) + 1\n",
    "    \n",
    "def keyfinction(k):\n",
    "    return D[k]\n",
    "\n",
    "for key in sorted(D, key = keyfunction):\n",
    "    print(key, D[key])"
   ]
  },
  {
   "cell_type": "markdown",
   "metadata": {},
   "source": [
    "3. Print words below as a sentence: Python is great"
   ]
  },
  {
   "cell_type": "code",
   "execution_count": 6,
   "metadata": {},
   "outputs": [
    {
     "name": "stdout",
     "output_type": "stream",
     "text": [
      "Python is great \n",
      "Python is great\n",
      "Python is great\n"
     ]
    }
   ],
   "source": [
    "words = (\"Python\", \"is\", \"great\") \n",
    "\n",
    "# V1\n",
    "for word in words:\n",
    "    print(word, end=' ')\n",
    "print()\n",
    "\n",
    "print(' '.join(words))\n",
    "print(*words)"
   ]
  },
  {
   "cell_type": "markdown",
   "metadata": {},
   "source": [
    "4. Is any value in L negative? print True or False\n",
    "\n",
    "   Are all values below 50? print True or False"
   ]
  },
  {
   "cell_type": "code",
   "execution_count": 11,
   "metadata": {},
   "outputs": [
    {
     "name": "stdout",
     "output_type": "stream",
     "text": [
      "True\n",
      "True\n"
     ]
    }
   ],
   "source": [
    "L = [10, 22, 3, 40, -50, 45, 12, 3, 8, -2, 13, 28]\n",
    "\n",
    "print(any(val<0 for val in L))\n",
    "print(all(val<50 for val in L))"
   ]
  },
  {
   "cell_type": "markdown",
   "metadata": {},
   "source": [
    "5. Write code to create a dictionary called h with keys 'A' to 'F' and values 10 to 15"
   ]
  },
  {
   "cell_type": "code",
   "execution_count": 13,
   "metadata": {},
   "outputs": [
    {
     "data": {
      "text/plain": [
       "{'A': 10, 'B': 11, 'C': 12, 'D': 13, 'E': 14, 'F': 15}"
      ]
     },
     "execution_count": 13,
     "metadata": {},
     "output_type": "execute_result"
    }
   ],
   "source": [
    "h = dict(zip('ABCDEF', range(10, 16)))\n",
    "h"
   ]
  },
  {
   "cell_type": "markdown",
   "metadata": {},
   "source": [
    "6. Write an iterator called Counting1 that keeps returning an integer starting from 1 and counting up to a user defined limit.\n",
    "\n",
    "   Then in the 2nd cell, change the iterator so there's no upper limit and name it Counting2"
   ]
  },
  {
   "cell_type": "code",
   "execution_count": 15,
   "metadata": {},
   "outputs": [
    {
     "name": "stdout",
     "output_type": "stream",
     "text": [
      "1\n",
      "2\n",
      "3\n",
      "4\n",
      "1\n",
      "2\n",
      "3\n",
      "4\n",
      "1 2 3 4\n"
     ]
    }
   ],
   "source": [
    "class Counting1:\n",
    "    def __init__(self, limit):\n",
    "        self._limit = limit\n",
    "        self._num = 0\n",
    "        \n",
    "    def __iter__(self):\n",
    "        return self\n",
    "    \n",
    "    def __next__(self):\n",
    "        if self._num < self._limit:\n",
    "            self._num += 1\n",
    "            return self._num\n",
    "        else:\n",
    "            raise StopIteration\n",
    "            \n",
    "c1 = Counting1(4)\n",
    "# If we know 4\n",
    "for i in range(4):\n",
    "    print(next(c1))\n",
    "    \n",
    "# \n",
    "c1 = Counting1(4)\n",
    "for val in c1:\n",
    "    print(val)\n",
    "    \n",
    "c1 = Counting1(4)\n",
    "print(*c1)"
   ]
  },
  {
   "cell_type": "code",
   "execution_count": 22,
   "metadata": {},
   "outputs": [
    {
     "name": "stdout",
     "output_type": "stream",
     "text": [
      "1,2,3,4,5,6,7,8,9,10,11,12,13,14,15,16,17,18,19,20,21,22,23,24,25,"
     ]
    }
   ],
   "source": [
    "class Counting2:\n",
    "        def __init__(self):\n",
    "            self._num = 0\n",
    "        \n",
    "        def __iter__(self):\n",
    "            return self\n",
    "    \n",
    "        def __next__(self):\n",
    "            self._num += 1\n",
    "            return self._num\n",
    "\n",
    "c2 = Counting2()\n",
    "for i in range(25):\n",
    "    print(next(c2), end = ',')"
   ]
  },
  {
   "cell_type": "markdown",
   "metadata": {},
   "source": [
    "7. Change the Counting1 iterator into a generator\n",
    "\n",
    "   Then in the second cell, change the Counting2 iterator into a generator"
   ]
  },
  {
   "cell_type": "code",
   "execution_count": null,
   "metadata": {},
   "outputs": [],
   "source": [
    "limit = 4\n",
    "gen1 = (val for val in range(1, limit + 1))\n",
    "\n",
    "for i in range(4):\n",
    "    print"
   ]
  },
  {
   "cell_type": "code",
   "execution_count": 24,
   "metadata": {},
   "outputs": [
    {
     "ename": "TypeError",
     "evalue": "'function' object is not an iterator",
     "output_type": "error",
     "traceback": [
      "\u001b[0;31m---------------------------------------------------------------------------\u001b[0m",
      "\u001b[0;31mTypeError\u001b[0m                                 Traceback (most recent call last)",
      "\u001b[0;32m/var/folders/ym/50f9gfp105v6t4xqyx661zb80000gn/T/ipykernel_64498/1108913834.py\u001b[0m in \u001b[0;36m<module>\u001b[0;34m\u001b[0m\n\u001b[1;32m      7\u001b[0m \u001b[0mg\u001b[0m \u001b[0;34m=\u001b[0m \u001b[0mgen2\u001b[0m\u001b[0;34m(\u001b[0m\u001b[0;34m)\u001b[0m\u001b[0;34m\u001b[0m\u001b[0;34m\u001b[0m\u001b[0m\n\u001b[1;32m      8\u001b[0m \u001b[0;32mfor\u001b[0m \u001b[0mi\u001b[0m \u001b[0;32min\u001b[0m \u001b[0mrange\u001b[0m\u001b[0;34m(\u001b[0m\u001b[0;36m5\u001b[0m\u001b[0;34m)\u001b[0m\u001b[0;34m:\u001b[0m\u001b[0;34m\u001b[0m\u001b[0;34m\u001b[0m\u001b[0m\n\u001b[0;32m----> 9\u001b[0;31m     \u001b[0mprint\u001b[0m\u001b[0;34m(\u001b[0m\u001b[0mnext\u001b[0m\u001b[0;34m(\u001b[0m\u001b[0mgen2\u001b[0m\u001b[0;34m)\u001b[0m\u001b[0;34m)\u001b[0m\u001b[0;34m\u001b[0m\u001b[0;34m\u001b[0m\u001b[0m\n\u001b[0m",
      "\u001b[0;31mTypeError\u001b[0m: 'function' object is not an iterator"
     ]
    }
   ],
   "source": [
    "def gen2():\n",
    "    num = 0\n",
    "    while True:\n",
    "        num += 1\n",
    "        yield num\n",
    "        \n",
    "g = gen2()\n",
    "for i in range(5):\n",
    "    print(next(gen2))"
   ]
  },
  {
   "cell_type": "code",
   "execution_count": null,
   "metadata": {},
   "outputs": [],
   "source": []
  }
 ],
 "metadata": {
  "kernelspec": {
   "display_name": "Python 3 (ipykernel)",
   "language": "python",
   "name": "python3"
  },
  "language_info": {
   "codemirror_mode": {
    "name": "ipython",
    "version": 3
   },
   "file_extension": ".py",
   "mimetype": "text/x-python",
   "name": "python",
   "nbconvert_exporter": "python",
   "pygments_lexer": "ipython3",
   "version": "3.9.12"
  },
  "toc-autonumbering": true,
  "toc-showtags": false
 },
 "nbformat": 4,
 "nbformat_minor": 4
}
